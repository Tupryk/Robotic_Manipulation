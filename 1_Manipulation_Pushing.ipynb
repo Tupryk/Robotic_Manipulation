{
 "cells": [
  {
   "cell_type": "markdown",
   "id": "b15547c7-afd5-4b83-8bbb-4352f9cad0b4",
   "metadata": {},
   "source": [
    "# Manipulation.py: Pushing example\n",
    "\n",
    "\n",
    "This tutorial provides an example of how to plan a pushing motion on a block using the manipulation.py helper functions"
   ]
  },
  {
   "cell_type": "markdown",
   "id": "a893d10f-c2c8-4a25-add3-960f484c5cba",
   "metadata": {},
   "source": [
    "As always we start with the necessary imports"
   ]
  },
  {
   "cell_type": "code",
   "execution_count": 1,
   "id": "3d966884-f1e9-4a92-9994-aa7eee3b6010",
   "metadata": {},
   "outputs": [],
   "source": [
    "import numpy as np\n",
    "import robotic as ry\n",
    "import manipulation as manip"
   ]
  },
  {
   "cell_type": "markdown",
   "id": "2a545d03-be77-4193-a346-a1568efb7daf",
   "metadata": {},
   "source": [
    "Now we load a predefined configuration with a robot arm and add a red box"
   ]
  },
  {
   "cell_type": "code",
   "execution_count": 2,
   "id": "57ac3d04-26a0-40b3-ba67-cf85560d1bde",
   "metadata": {},
   "outputs": [],
   "source": [
    "C = ry.Config()\n",
    "C.addFile(ry.raiPath('../rai-robotModels/scenarios/pandaSingle.g'))\n",
    "\n",
    "midpoint = np.array([-0.105, 0.4, 0.705-.025+.1])\n",
    "C.addFrame(\"box\") \\\n",
    "    .setPosition(midpoint) \\\n",
    "    .setShape(ry.ST.ssBox, size=[0.08, 0.12, 0.08, 0.001]) \\\n",
    "    .setColor([1, 0, 0]) \\\n",
    "    .setContact(1) \\\n",
    "    .setMass(.1)\n",
    "\n",
    "# For convenience, a few definitions:\n",
    "gripper = \"l_gripper\"\n",
    "box = \"box\"\n",
    "table = \"table\""
   ]
  },
  {
   "cell_type": "markdown",
   "id": "a8a63972-f72c-4d2c-b98e-bf2ff0bda842",
   "metadata": {},
   "source": [
    "## Defining the \"push\" motion\n",
    "\n",
    "Using the ManipullationModelling class we can firstly generate two key time slices, one represents the joint state at the start of the push motion in front of the box and another at the end target position of the box. From that we ca fill in the sub-motions, states in between the two key frames, with a few constraints. For the first sub-motion we want the robot to retract the push, this means moving away from teh object before we approach the object leaving us in the desired starting position for our push.\n",
    "\n",
    "For the second sub-motion we initially ignore all collisions before defining our own explicit collision pairs, these being the robot's fingers with the table and the robot's hand with the table. We have to do this manually since the pushing motion requires us to collide against the box, otherwise we would not find any feasible motions."
   ]
  },
  {
   "cell_type": "code",
   "execution_count": 3,
   "id": "c6457551-93c9-4707-b5a0-c13dd1307d8e",
   "metadata": {},
   "outputs": [],
   "source": [
    "def push(obj: str, target_pos: list, info: str=\"\", vis: bool=False) -> tuple:\n",
    "\tM = manip.ManipulationModelling(C, f\"push_motion{info}\", ['l_gripper'])\n",
    "\tM.setup_pick_and_place_waypoints(gripper, obj, 1e-1)\n",
    "\tM.straight_push([1.,2.], obj, gripper, table)\n",
    "\tM.target_xy_position([2.], obj, target_pos)\n",
    "\tM.solve()\n",
    "\tif not M.feasible:\n",
    "\t\treturn False, []\n",
    "\n",
    "\tM1 = M.sub_motion(0)\n",
    "\tM1.retractPush([.0, .15], gripper, .03)\n",
    "\tM1.approachPush([.85, 1.], gripper, .03)\n",
    "\tpath1 = M1.solve()\n",
    "\tif not M1.feasible:\n",
    "\t\treturn False, []\n",
    "\n",
    "\tM2 = M.sub_motion(1, accumulated_collisions=False)\n",
    "\tM2.komo.addObjective([], ry.FS.positionRel, [gripper, '_push_start'], ry.OT.eq, 1e1*np.array([[1,0,0],[0,0,1]]))\n",
    "\tM2.keep_distance([], \"l_finger1\", \"table\")\n",
    "\tM2.keep_distance([], \"l_finger2\", \"table\")\n",
    "\tM2.keep_distance([], \"l_palm\", \"table\")\n",
    "\tpath2 = M2.solve()\n",
    "\tif not M2.feasible:\n",
    "\t\treturn False, []\n",
    "\t\n",
    "\tif vis:\n",
    "\t\tM1.play(C, 1.)\n",
    "\t\tC.attach(gripper, obj)\n",
    "\t\tM2.play(C, 1.)\n",
    "\t\tC.attach(table, obj)\n",
    "\t\n",
    "\tpath = np.append(path1, path2, 0)\n",
    "\treturn True, path"
   ]
  },
  {
   "cell_type": "markdown",
   "id": "c2ead9a9-4cef-4bf1-98c6-438df16fe708",
   "metadata": {},
   "source": [
    "## Visualizing and Executing the motion\n",
    "\n",
    "We will want to test the output of our function with a real robot, or at least a physics simulation. For this porpuse we can define a bot object with which we will be able to interface with the robot."
   ]
  },
  {
   "cell_type": "code",
   "execution_count": 4,
   "id": "7112a912",
   "metadata": {},
   "outputs": [],
   "source": [
    "bot = ry.BotOp(C, useRealRobot=False)\n",
    "bot.home(C)"
   ]
  },
  {
   "cell_type": "markdown",
   "id": "26a6550b",
   "metadata": {},
   "source": [
    "We will attempt to perform 30 push motions. For each successful motion we will first loop through all the calculated joint states in each path, attaching the box to the robot's gripper in the second sub-motion. ManipulationModelling has a convenient function for this called \"play\", which can be run once the optimizer has found a feasible path. After visualizing the motion in the configuration, we can test it in the simulation (or real robot)."
   ]
  },
  {
   "cell_type": "code",
   "execution_count": 5,
   "id": "be939406",
   "metadata": {},
   "outputs": [
    {
     "name": "stdout",
     "output_type": "stream",
     "text": [
      "  -- feasible:push_motion0\n",
      "     { time: 0.034617, evals: 80, done: 1, feasible: 1, sos: 0.0766002, f: 0, ineq: 0, eq: 0.0685053 }\n",
      "  -- feasible:sub_motion_0--push_motion0\n",
      "     { time: 0.672927, evals: 200, done: 1, feasible: 1, sos: 1.28071, f: 0, ineq: 1.08128e-06, eq: 0.0907689 }\n",
      "  -- feasible:sub_motion_1--push_motion0\n",
      "     { time: 0.021588, evals: 9, done: 1, feasible: 1, sos: 0.0839804, f: 0, ineq: 0, eq: 0.00365656 }\n",
      "  -- infeasible:push_motion1\n",
      "     { time: 0.095872, evals: 201, done: 1, feasible: 0, sos: 0.563942, f: 0, ineq: 0.10862, eq: 2.2463 }\n",
      "  -- infeasible:push_motion2\n",
      "     { time: 0.056115, evals: 122, done: 1, feasible: 0, sos: 0.350946, f: 0, ineq: 0.21747, eq: 5.66167 }\n",
      "  -- infeasible:push_motion3\n",
      "     { time: 0.089109, evals: 201, done: 1, feasible: 0, sos: 0.213699, f: 0, ineq: 0.0340266, eq: 0.809333 }\n",
      "  -- infeasible:push_motion4\n",
      "     { time: 0.095819, evals: 201, done: 1, feasible: 0, sos: 0.559471, f: 0, ineq: 0.169495, eq: 1.68657 }\n",
      "  -- infeasible:push_motion5\n",
      "     { time: 0.089985, evals: 201, done: 1, feasible: 0, sos: 0.198409, f: 0, ineq: 0.0289246, eq: 0.761899 }\n",
      "  -- infeasible:push_motion6\n",
      "     { time: 0.090353, evals: 201, done: 1, feasible: 0, sos: 0.180514, f: 0, ineq: 0.0191228, eq: 2.10914 }\n",
      "  -- infeasible:push_motion7\n",
      "     { time: 0.0968, evals: 201, done: 1, feasible: 0, sos: 0.495947, f: 0, ineq: 0.376311, eq: 2.43777 }\n",
      "  -- infeasible:push_motion8\n",
      "     { time: 0.09638, evals: 201, done: 1, feasible: 0, sos: 0.315431, f: 0, ineq: 0.0151501, eq: 1.13593 }\n",
      "  -- feasible:push_motion9\n",
      "     { time: 0.050784, evals: 114, done: 1, feasible: 1, sos: 0.346744, f: 0, ineq: 1.96232e-05, eq: 0.0795837 }\n",
      "  -- feasible:sub_motion_0--push_motion9\n",
      "     { time: 0.719213, evals: 200, done: 1, feasible: 1, sos: 2.92211, f: 0, ineq: 0, eq: 0.125268 }\n",
      "  -- feasible:sub_motion_1--push_motion9\n",
      "     { time: 0.041105, evals: 14, done: 1, feasible: 1, sos: 0.0901006, f: 0, ineq: 0, eq: 0.0145728 }\n",
      "  -- infeasible:push_motion10\n",
      "     { time: 0.089101, evals: 201, done: 1, feasible: 0, sos: 0.465793, f: 0, ineq: 0.384652, eq: 4.37963 }\n",
      "  -- infeasible:push_motion11\n",
      "     { time: 0.08132, evals: 200, done: 1, feasible: 0, sos: 0.416066, f: 0, ineq: 0.179309, eq: 3.82705 }\n",
      "  -- infeasible:push_motion12\n",
      "     { time: 0.079068, evals: 200, done: 1, feasible: 0, sos: 0.14548, f: 0, ineq: 0.0197402, eq: 1.00329 }\n",
      "  -- infeasible:push_motion13\n",
      "     { time: 0.079639, evals: 201, done: 1, feasible: 0, sos: 0.455358, f: 0, ineq: 0.0205122, eq: 1.59112 }\n",
      "  -- feasible:push_motion14\n",
      "     { time: 0.07545, evals: 201, done: 1, feasible: 1, sos: 0.269243, f: 0, ineq: 0, eq: 0.0570261 }\n",
      "  -- feasible:sub_motion_0--push_motion14\n",
      "     { time: 0.499493, evals: 200, done: 1, feasible: 1, sos: 2.60888, f: 0, ineq: 0.000170772, eq: 0.0879234 }\n",
      "  -- feasible:sub_motion_1--push_motion14\n",
      "     { time: 0.031921, evals: 14, done: 1, feasible: 1, sos: 0.145781, f: 0, ineq: 0, eq: 0.00807763 }\n",
      "  -- feasible:push_motion15\n",
      "     { time: 0.083083, evals: 200, done: 1, feasible: 1, sos: 0.142821, f: 0, ineq: 0, eq: 0.0381268 }\n",
      "  -- feasible:sub_motion_0--push_motion15\n",
      "     { time: 0.532255, evals: 200, done: 1, feasible: 1, sos: 0.621618, f: 0, ineq: 0.000156682, eq: 0.0484288 }\n",
      "  -- feasible:sub_motion_1--push_motion15\n",
      "     { time: 0.024154, evals: 10, done: 1, feasible: 1, sos: 0.040185, f: 0, ineq: 0, eq: 0.00767416 }\n",
      "  -- infeasible:push_motion16\n",
      "     { time: 0.082011, evals: 200, done: 1, feasible: 0, sos: 0.174199, f: 0, ineq: 0.025633, eq: 0.879188 }\n",
      "  -- infeasible:push_motion17\n",
      "     { time: 0.083824, evals: 201, done: 1, feasible: 0, sos: 0.150563, f: 0, ineq: 0.0170159, eq: 2.00351 }\n",
      "  -- infeasible:push_motion18\n",
      "     { time: 0.086971, evals: 200, done: 1, feasible: 0, sos: 0.149724, f: 0, ineq: 0.011567, eq: 0.583447 }\n",
      "  -- infeasible:push_motion19\n",
      "     { time: 0.058317, evals: 146, done: 1, feasible: 0, sos: 0.210691, f: 0, ineq: 0.187488, eq: 0.92945 }\n",
      "  -- infeasible:push_motion20\n",
      "     { time: 0.077168, evals: 201, done: 1, feasible: 0, sos: 0.142059, f: 0, ineq: 0.0187928, eq: 1.57204 }\n",
      "  -- feasible:push_motion21\n",
      "     { time: 0.083914, evals: 200, done: 1, feasible: 1, sos: 0.121981, f: 0, ineq: 0, eq: 0.0803117 }\n",
      "  -- feasible:sub_motion_0--push_motion21\n",
      "     { time: 0.552747, evals: 200, done: 1, feasible: 1, sos: 0.379498, f: 0, ineq: 4.31449e-05, eq: 0.0752714 }\n",
      "  -- feasible:sub_motion_1--push_motion21\n",
      "     { time: 0.032944, evals: 11, done: 1, feasible: 1, sos: 0.185677, f: 0, ineq: 0, eq: 0.00704902 }\n",
      "  -- feasible:push_motion22\n",
      "     { time: 0.085784, evals: 200, done: 1, feasible: 1, sos: 0.149512, f: 0, ineq: 0, eq: 0.0706985 }\n",
      "  -- feasible:sub_motion_0--push_motion22\n",
      "     { time: 0.643386, evals: 201, done: 1, feasible: 1, sos: 2.13756, f: 0, ineq: 0.00164139, eq: 0.0874682 }\n",
      "  -- feasible:sub_motion_1--push_motion22\n",
      "     { time: 0.019416, evals: 9, done: 1, feasible: 1, sos: 0.0668048, f: 0, ineq: 0, eq: 0.00335374 }\n",
      "  -- infeasible:push_motion23\n",
      "     { time: 0.061979, evals: 133, done: 1, feasible: 0, sos: 0.253478, f: 0, ineq: 0.0155071, eq: 0.917085 }\n",
      "  -- infeasible:push_motion24\n",
      "     { time: 0.086141, evals: 201, done: 1, feasible: 0, sos: 0.540005, f: 0, ineq: 0.00856451, eq: 0.518665 }\n",
      "  -- infeasible:push_motion25\n",
      "     { time: 0.090483, evals: 201, done: 1, feasible: 0, sos: 0.534047, f: 0, ineq: 0.0543512, eq: 1.40513 }\n",
      "  -- infeasible:push_motion26\n",
      "     { time: 0.090269, evals: 201, done: 1, feasible: 0, sos: 0.525841, f: 0, ineq: 0.107188, eq: 1.79233 }\n",
      "  -- infeasible:push_motion27\n",
      "     { time: 0.091819, evals: 200, done: 1, feasible: 0, sos: 0.299702, f: 0, ineq: 0.00689229, eq: 0.867409 }\n",
      "  -- feasible:push_motion28\n",
      "     { time: 0.024759, evals: 53, done: 1, feasible: 1, sos: 0.272087, f: 0, ineq: 0, eq: 0.0951022 }\n",
      "  -- feasible:sub_motion_0--push_motion28\n",
      "     { time: 0.68366, evals: 200, done: 1, feasible: 1, sos: 2.55593, f: 0, ineq: 4.34001e-05, eq: 0.112484 }\n",
      "  -- feasible:sub_motion_1--push_motion28\n",
      "     { time: 0.036015, evals: 12, done: 1, feasible: 1, sos: 0.0461542, f: 0, ineq: 0, eq: 0.00671255 }\n"
     ]
    },
    {
     "ename": "KeyboardInterrupt",
     "evalue": "",
     "output_type": "error",
     "traceback": [
      "\u001b[0;31m---------------------------------------------------------------------------\u001b[0m",
      "\u001b[0;31mKeyboardInterrupt\u001b[0m                         Traceback (most recent call last)",
      "Cell \u001b[0;32mIn[5], line 16\u001b[0m\n\u001b[1;32m     14\u001b[0m \t\tbot\u001b[38;5;241m.\u001b[39mmove(path, [\u001b[38;5;241m3\u001b[39m])\n\u001b[1;32m     15\u001b[0m \t\t\u001b[38;5;28;01mwhile\u001b[39;00m bot\u001b[38;5;241m.\u001b[39mgetTimeToEnd() \u001b[38;5;241m>\u001b[39m \u001b[38;5;241m0.\u001b[39m:\n\u001b[0;32m---> 16\u001b[0m \t\t\t\u001b[43mbot\u001b[49m\u001b[38;5;241;43m.\u001b[39;49m\u001b[43msync\u001b[49m\u001b[43m(\u001b[49m\u001b[43mC\u001b[49m\u001b[43m)\u001b[49m\n\u001b[1;32m     18\u001b[0m \tsuccess_count \u001b[38;5;241m+\u001b[39m\u001b[38;5;241m=\u001b[39m \u001b[38;5;241m1\u001b[39m \u001b[38;5;28;01mif\u001b[39;00m success \u001b[38;5;28;01melse\u001b[39;00m \u001b[38;5;241m0\u001b[39m\n\u001b[1;32m     20\u001b[0m \u001b[38;5;28mprint\u001b[39m(\u001b[38;5;124mf\u001b[39m\u001b[38;5;124m\"\u001b[39m\u001b[38;5;124mSuccessful motions: \u001b[39m\u001b[38;5;132;01m{\u001b[39;00msuccess_count\u001b[38;5;132;01m}\u001b[39;00m\u001b[38;5;124m/\u001b[39m\u001b[38;5;132;01m{\u001b[39;00mattempt_count\u001b[38;5;132;01m}\u001b[39;00m\u001b[38;5;124m\"\u001b[39m)\n",
      "\u001b[0;31mKeyboardInterrupt\u001b[0m: "
     ]
    }
   ],
   "source": [
    "attempt_count = 30\n",
    "success_count = 0\n",
    "\n",
    "for l in range(attempt_count):\n",
    "\n",
    "\ttarget_position = [\n",
    "\t\tmidpoint[0] + np.random.uniform(-.15, .15),\n",
    "\t\tmidpoint[1] + np.random.uniform(-.15, .15),\n",
    "\t\t0.]\n",
    "\t\n",
    "\tsuccess, path = push(box, target_position, str(l), vis=True)\n",
    "\n",
    "\tif success:\n",
    "\t\tbot.move(path, [3])\n",
    "\t\twhile bot.getTimeToEnd() > 0.:\n",
    "\t\t\tbot.sync(C)\n",
    "\t\t\n",
    "\tsuccess_count += 1 if success else 0\n",
    "\t\n",
    "print(f\"Successful motions: {success_count}/{attempt_count}\")"
   ]
  }
 ],
 "metadata": {
  "kernelspec": {
   "display_name": "Python 3 (ipykernel)",
   "language": "python",
   "name": "python3"
  },
  "language_info": {
   "codemirror_mode": {
    "name": "ipython",
    "version": 3
   },
   "file_extension": ".py",
   "mimetype": "text/x-python",
   "name": "python",
   "nbconvert_exporter": "python",
   "pygments_lexer": "ipython3",
   "version": "3.10.12"
  }
 },
 "nbformat": 4,
 "nbformat_minor": 5
}
