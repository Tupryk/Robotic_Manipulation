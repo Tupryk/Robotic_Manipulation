{
 "cells": [
  {
   "cell_type": "markdown",
   "id": "b15547c7-afd5-4b83-8bbb-4352f9cad0b4",
   "metadata": {},
   "source": [
    "# Manipulation.py: Pushing example\n",
    "\n",
    "This tutorial provides an example of how to plan a pushing motion on a block using the manipulation.py helper functions"
   ]
  },
  {
   "cell_type": "markdown",
   "id": "a893d10f-c2c8-4a25-add3-960f484c5cba",
   "metadata": {},
   "source": [
    "As always we start with the necessary imports"
   ]
  },
  {
   "cell_type": "code",
   "execution_count": 26,
   "id": "3d966884-f1e9-4a92-9994-aa7eee3b6010",
   "metadata": {},
   "outputs": [],
   "source": [
    "import numpy as np\n",
    "import robotic as ry\n",
    "import manipulation as manip"
   ]
  },
  {
   "cell_type": "markdown",
   "id": "2a545d03-be77-4193-a346-a1568efb7daf",
   "metadata": {},
   "source": [
    "Now we load a predefined configuration with a robot arm and add a red box"
   ]
  },
  {
   "cell_type": "code",
   "execution_count": 27,
   "id": "57ac3d04-26a0-40b3-ba67-cf85560d1bde",
   "metadata": {},
   "outputs": [
    {
     "data": {
      "text/plain": [
       "0"
      ]
     },
     "execution_count": 27,
     "metadata": {},
     "output_type": "execute_result"
    }
   ],
   "source": [
    "C = ry.Config()\n",
    "C.addFile(ry.raiPath('../rai-robotModels/scenarios/pandaSingle.g'))\n",
    "\n",
    "midpoint = np.array([-0.105, 0.4, 0.705-.025+.1])\n",
    "C.addFrame(\"box\") \\\n",
    "    .setPosition(midpoint) \\\n",
    "    .setShape(ry.ST.ssBox, size=[0.08, 0.12, 0.08, 0.001]) \\\n",
    "    .setColor([1, 0, 0]) \\\n",
    "    .setContact(1) \\\n",
    "    .setMass(.1)\n",
    "\n",
    "# For convenience, a few definitions:\n",
    "gripper = \"l_gripper\"\n",
    "box = \"box\"\n",
    "table = \"table\"\n",
    "\n",
    "C.view()"
   ]
  },
  {
   "cell_type": "markdown",
   "id": "a8a63972-f72c-4d2c-b98e-bf2ff0bda842",
   "metadata": {},
   "source": [
    "## Defining the push motion\n",
    "\n",
    "Using the ManipullationModelling class we can firstly generate two key time slices, one represents the joint state at the start of the push motion in front of the box and another at the end target position of the box. From that we ca fill in the sub-motions, states in between the two key frames, with a few constraints. For the first sub-motion we want the robot to retract the push, this means moving away from teh object before we approach the object leaving us in the desired starting position for our push.\n",
    "\n",
    "For the second sub-motion we initially ignore all collisions before defining our own explicit collision pairs, these being the robot's fingers with the table and the robot's hand with the table. We have to do this manually since the pushing motion requires us to collide against the box, otherwise we would not find any feasible motions."
   ]
  },
  {
   "cell_type": "code",
   "execution_count": 28,
   "id": "c6457551-93c9-4707-b5a0-c13dd1307d8e",
   "metadata": {},
   "outputs": [],
   "source": [
    "def push(obj: str, target_pos: list[float], info: str=\"\", vis: bool=False) -> tuple:\n",
    "\tM = manip.ManipulationModelling(C, f\"push_motion_{info}\", ['l_gripper'])\n",
    "\tM.setup_pick_and_place_waypoints(gripper, obj, 1e-1, accumulated_collisions=False)\n",
    "\tM.straight_push([1.,2.], obj, gripper, table)\n",
    "\tM.target_xy_position(2., obj, target_pos)\n",
    "\tM.solve()\n",
    "\tif not M.feasible:\n",
    "\t\treturn False, []\n",
    "\n",
    "\tM1 = M.sub_motion(0, accumulated_collisions=False)\n",
    "\tM1.retractPush([.0, .15], gripper, .03)\n",
    "\tM1.approachPush([.85, 1.], gripper, .03)\n",
    "\tM1.keep_distance([.15,.85], obj, \"l_finger1\", .02)\n",
    "\tM1.keep_distance([.15,.85], obj, \"l_finger2\", .02)\n",
    "\tM1.keep_distance([.15,.85], obj, 'l_palm', .02)\n",
    "\tM1.keep_distance([], table, \"l_finger1\", .0)\n",
    "\tM1.keep_distance([], table, \"l_finger2\", .0)\n",
    "\tpath1 = M1.solve()\n",
    "\tif not M1.feasible:\n",
    "\t\treturn False, []\n",
    "\n",
    "\tM2 = M.sub_motion(1, accumulated_collisions=False)\n",
    "\tM2.komo.addObjective([], ry.FS.positionRel, [gripper, '_push_start'], ry.OT.eq, 1e1*np.array([[1,0,0],[0,0,1]]))\n",
    "\tpath2 = M2.solve()\n",
    "\tif not M2.feasible:\n",
    "\t\treturn False, []\n",
    "\n",
    "\tif vis:\n",
    "\t\tM1.play(C, 1.)\n",
    "\t\tC.attach(gripper, obj)\n",
    "\t\tM2.play(C, 1.)\n",
    "\t\tC.attach(table, obj)\n",
    "\n",
    "\tpath = np.append(path1, path2)\n",
    "\treturn True, path"
   ]
  },
  {
   "cell_type": "markdown",
   "id": "c2ead9a9-4cef-4bf1-98c6-438df16fe708",
   "metadata": {},
   "source": [
    "## Visualizing and Executing the motion\n",
    "\n",
    "We will want to test the output of our function with a real robot, or at least a physics simulation. For this porpuse we can define a bot object with which we will be able to interface with the robot."
   ]
  },
  {
   "cell_type": "code",
   "execution_count": 29,
   "id": "7112a912",
   "metadata": {},
   "outputs": [],
   "source": [
    "bot = ry.BotOp(C, useRealRobot=False)\n",
    "bot.home(C)"
   ]
  },
  {
   "cell_type": "markdown",
   "id": "26a6550b",
   "metadata": {},
   "source": [
    "We will attempt to perform 30 push motions. For each successful motion we will first loop through all the calculated joint states in each path, attaching the box to the robot's gripper in the second sub-motion. ManipulationModelling has a convenient function for this called \"play\", which can be run once the optimizer has found a feasible path. After visualizing the motion in the configuration, we can test it in the simulation (or real robot)."
   ]
  },
  {
   "cell_type": "code",
   "execution_count": 30,
   "id": "be939406",
   "metadata": {},
   "outputs": [
    {
     "name": "stdout",
     "output_type": "stream",
     "text": [
      "  -- feasible:push_motion_0\n",
      "     { time: 0.016703, evals: 70, done: 1, feasible: 1, sos: 0.117092, f: 0, ineq: 0, eq: 4.39069e-06 }\n",
      "  -- feasible:sub_motion_0--push_motion_0\n",
      "     { time: 0.077371, evals: 46, done: 1, feasible: 1, sos: 1.0303, f: 0, ineq: 9.03723e-07, eq: 0.000180739 }\n",
      "  -- feasible:sub_motion_1--push_motion_0\n",
      "     { time: 0.008338, evals: 9, done: 1, feasible: 1, sos: 0.0845118, f: 0, ineq: 0, eq: 0.000131302 }\n",
      "  -- infeasible:push_motion_1\n",
      "     { time: 0.016034, evals: 52, done: 1, feasible: 0, sos: 0.243999, f: 0, ineq: 0.323061, eq: 0.770936 }\n",
      "  -- infeasible:push_motion_2\n",
      "     { time: 0.027716, evals: 102, done: 1, feasible: 0, sos: 0.149789, f: 0, ineq: 0.315816, eq: 0.803879 }\n",
      "  -- feasible:push_motion_3\n",
      "     { time: 0.010994, evals: 49, done: 1, feasible: 1, sos: 0.112156, f: 0, ineq: 0, eq: 5.2382e-05 }\n",
      "  -- feasible:sub_motion_0--push_motion_3\n",
      "     { time: 0.329212, evals: 200, done: 1, feasible: 1, sos: 2.27373, f: 0, ineq: 9.39003e-05, eq: 0.000622432 }\n",
      "  -- feasible:sub_motion_1--push_motion_3\n",
      "     { time: 0.007396, evals: 8, done: 1, feasible: 1, sos: 0.0833712, f: 0, ineq: 0, eq: 0.000123061 }\n",
      "  -- feasible:push_motion_4\n",
      "     { time: 0.025723, evals: 32, done: 1, feasible: 1, sos: 0.272936, f: 0, ineq: 2.85053e-08, eq: 9.51099e-07 }\n",
      "  -- feasible:sub_motion_0--push_motion_4\n",
      "     { time: 0.310733, evals: 200, done: 1, feasible: 1, sos: 1.33604, f: 0, ineq: 4.17756e-06, eq: 0.000289608 }\n",
      "  -- feasible:sub_motion_1--push_motion_4\n",
      "     { time: 0.013486, evals: 14, done: 1, feasible: 1, sos: 0.068249, f: 0, ineq: 0, eq: 0.000435448 }\n",
      "  -- feasible:push_motion_5\n",
      "     { time: 0.044664, evals: 194, done: 1, feasible: 1, sos: 0.206948, f: 0, ineq: 0, eq: 7.15688e-06 }\n",
      "  -- feasible:sub_motion_0--push_motion_5\n",
      "     { time: 0.237804, evals: 158, done: 1, feasible: 1, sos: 2.12743, f: 0, ineq: 2.26475e-05, eq: 0.000417496 }\n",
      "  -- feasible:sub_motion_1--push_motion_5\n",
      "     { time: 0.007526, evals: 7, done: 1, feasible: 1, sos: 0.011671, f: 0, ineq: 0, eq: 0.000504114 }\n"
     ]
    },
    {
     "ename": "KeyboardInterrupt",
     "evalue": "",
     "output_type": "error",
     "traceback": [
      "\u001b[0;31m---------------------------------------------------------------------------\u001b[0m",
      "\u001b[0;31mKeyboardInterrupt\u001b[0m                         Traceback (most recent call last)",
      "Cell \u001b[0;32mIn[30], line 11\u001b[0m\n\u001b[1;32m      4\u001b[0m \u001b[38;5;28;01mfor\u001b[39;00m l \u001b[38;5;129;01min\u001b[39;00m \u001b[38;5;28mrange\u001b[39m(attempt_count):\n\u001b[1;32m      6\u001b[0m \ttarget_position \u001b[38;5;241m=\u001b[39m [\n\u001b[1;32m      7\u001b[0m \t\tmidpoint[\u001b[38;5;241m0\u001b[39m] \u001b[38;5;241m+\u001b[39m np\u001b[38;5;241m.\u001b[39mrandom\u001b[38;5;241m.\u001b[39muniform(\u001b[38;5;241m-\u001b[39m\u001b[38;5;241m.15\u001b[39m, \u001b[38;5;241m.15\u001b[39m),\n\u001b[1;32m      8\u001b[0m \t\tmidpoint[\u001b[38;5;241m1\u001b[39m] \u001b[38;5;241m+\u001b[39m np\u001b[38;5;241m.\u001b[39mrandom\u001b[38;5;241m.\u001b[39muniform(\u001b[38;5;241m-\u001b[39m\u001b[38;5;241m.15\u001b[39m, \u001b[38;5;241m.15\u001b[39m),\n\u001b[1;32m      9\u001b[0m \t\t\u001b[38;5;241m0.\u001b[39m]\n\u001b[0;32m---> 11\u001b[0m \tsuccess, path \u001b[38;5;241m=\u001b[39m \u001b[43mpush\u001b[49m\u001b[43m(\u001b[49m\u001b[43mbox\u001b[49m\u001b[43m,\u001b[49m\u001b[43m \u001b[49m\u001b[43mtarget_position\u001b[49m\u001b[43m,\u001b[49m\u001b[43m \u001b[49m\u001b[38;5;28;43mstr\u001b[39;49m\u001b[43m(\u001b[49m\u001b[43ml\u001b[49m\u001b[43m)\u001b[49m\u001b[43m,\u001b[49m\u001b[43m \u001b[49m\u001b[43mvis\u001b[49m\u001b[38;5;241;43m=\u001b[39;49m\u001b[38;5;28;43;01mTrue\u001b[39;49;00m\u001b[43m)\u001b[49m\n\u001b[1;32m     13\u001b[0m \t\u001b[38;5;66;03m# if success:\u001b[39;00m\n\u001b[1;32m     14\u001b[0m \t\u001b[38;5;66;03m# \tbot.move(path, [3])\u001b[39;00m\n\u001b[1;32m     15\u001b[0m \t\u001b[38;5;66;03m# \twhile bot.getTimeToEnd() > 0.:\u001b[39;00m\n\u001b[1;32m     16\u001b[0m \t\u001b[38;5;66;03m# \t\tbot.sync(C)\u001b[39;00m\n\u001b[1;32m     18\u001b[0m \tsuccess_count \u001b[38;5;241m+\u001b[39m\u001b[38;5;241m=\u001b[39m \u001b[38;5;241m1\u001b[39m \u001b[38;5;28;01mif\u001b[39;00m success \u001b[38;5;28;01melse\u001b[39;00m \u001b[38;5;241m0\u001b[39m\n",
      "Cell \u001b[0;32mIn[28], line 29\u001b[0m, in \u001b[0;36mpush\u001b[0;34m(obj, target_pos, info, vis)\u001b[0m\n\u001b[1;32m     26\u001b[0m \t\u001b[38;5;28;01mreturn\u001b[39;00m \u001b[38;5;28;01mFalse\u001b[39;00m, []\n\u001b[1;32m     28\u001b[0m \u001b[38;5;28;01mif\u001b[39;00m vis:\n\u001b[0;32m---> 29\u001b[0m \t\u001b[43mM1\u001b[49m\u001b[38;5;241;43m.\u001b[39;49m\u001b[43mplay\u001b[49m\u001b[43m(\u001b[49m\u001b[43mC\u001b[49m\u001b[43m,\u001b[49m\u001b[43m \u001b[49m\u001b[38;5;241;43m1.\u001b[39;49m\u001b[43m)\u001b[49m\n\u001b[1;32m     30\u001b[0m \tC\u001b[38;5;241m.\u001b[39mattach(gripper, obj)\n\u001b[1;32m     31\u001b[0m \tM2\u001b[38;5;241m.\u001b[39mplay(C, \u001b[38;5;241m1.\u001b[39m)\n",
      "File \u001b[0;32m~/Robotic_Manipulation/manipulation.py:545\u001b[0m, in \u001b[0;36mManipulationModelling.play\u001b[0;34m(self, C, duration)\u001b[0m\n\u001b[1;32m    543\u001b[0m C\u001b[38;5;241m.\u001b[39msetJointState(\u001b[38;5;28mself\u001b[39m\u001b[38;5;241m.\u001b[39mpath[t])\n\u001b[1;32m    544\u001b[0m C\u001b[38;5;241m.\u001b[39mview(\u001b[38;5;28;01mFalse\u001b[39;00m, \u001b[38;5;124mf\u001b[39m\u001b[38;5;124m'\u001b[39m\u001b[38;5;124mstep \u001b[39m\u001b[38;5;132;01m{\u001b[39;00mt\u001b[38;5;132;01m}\u001b[39;00m\u001b[38;5;130;01m\\n\u001b[39;00m\u001b[38;5;132;01m{\u001b[39;00m\u001b[38;5;28mself\u001b[39m\u001b[38;5;241m.\u001b[39minfo\u001b[38;5;132;01m}\u001b[39;00m\u001b[38;5;124m'\u001b[39m)\n\u001b[0;32m--> 545\u001b[0m \u001b[43mtime\u001b[49m\u001b[38;5;241;43m.\u001b[39;49m\u001b[43msleep\u001b[49m\u001b[43m(\u001b[49m\u001b[43mduration\u001b[49m\u001b[38;5;241;43m/\u001b[39;49m\u001b[38;5;28;43mself\u001b[39;49m\u001b[38;5;241;43m.\u001b[39;49m\u001b[43mpath\u001b[49m\u001b[38;5;241;43m.\u001b[39;49m\u001b[43mshape\u001b[49m\u001b[43m[\u001b[49m\u001b[38;5;241;43m0\u001b[39;49m\u001b[43m]\u001b[49m\u001b[43m)\u001b[49m\n",
      "\u001b[0;31mKeyboardInterrupt\u001b[0m: "
     ]
    }
   ],
   "source": [
    "attempt_count = 30\n",
    "success_count = 0\n",
    "\n",
    "for l in range(attempt_count):\n",
    "\n",
    "\ttarget_position = [\n",
    "\t\tmidpoint[0] + np.random.uniform(-.15, .15),\n",
    "\t\tmidpoint[1] + np.random.uniform(-.15, .15),\n",
    "\t\t0.]\n",
    "\t\n",
    "\tsuccess, path = push(box, target_position, str(l), vis=True)\n",
    "\n",
    "\tif success:\n",
    "\t\tbot.move(path, [3])\n",
    "\t\twhile bot.getTimeToEnd() > 0.:\n",
    "\t\t\tbot.sync(C)\n",
    "\t\t\n",
    "\tsuccess_count += 1 if success else 0\n",
    "\t\n",
    "print(f\"Successful motions: {success_count}/{attempt_count}\")"
   ]
  }
 ],
 "metadata": {
  "kernelspec": {
   "display_name": "Python 3 (ipykernel)",
   "language": "python",
   "name": "python3"
  },
  "language_info": {
   "codemirror_mode": {
    "name": "ipython",
    "version": 3
   },
   "file_extension": ".py",
   "mimetype": "text/x-python",
   "name": "python",
   "nbconvert_exporter": "python",
   "pygments_lexer": "ipython3",
   "version": "3.10.12"
  }
 },
 "nbformat": 4,
 "nbformat_minor": 5
}
