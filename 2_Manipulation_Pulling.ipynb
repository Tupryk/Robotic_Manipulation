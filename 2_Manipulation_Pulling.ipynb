{
 "cells": [
  {
   "cell_type": "markdown",
   "id": "b15547c7-afd5-4b83-8bbb-4352f9cad0b4",
   "metadata": {},
   "source": [
    "# Manipulation.py: Pulling example\n",
    "\n",
    "This tutorial provides an example of realizing a \"pull\" motion of a robot arm on a box using of \"manipulation.py\" and \"robot_execution.py\". \n",
    "In the context of pulling a box with a robot arm, \"pulling\" refers to the action of applying force to move the box towards or away from a specific direction or location using the robot arm. This typically involves pressing the robot's gripper against the top part of the box and then exerting force to shift the box along a desired path or trajectory. This type of motion is hard to simulate as friction plays a big role in the motion."
   ]
  },
  {
   "cell_type": "markdown",
   "id": "a893d10f-c2c8-4a25-add3-960f484c5cba",
   "metadata": {},
   "source": [
    "As always we start with the necessary imports"
   ]
  },
  {
   "cell_type": "code",
   "execution_count": 1,
   "id": "3d966884-f1e9-4a92-9994-aa7eee3b6010",
   "metadata": {},
   "outputs": [],
   "source": [
    "import numpy as np\n",
    "import robotic as ry\n",
    "import manipulation as manip"
   ]
  },
  {
   "cell_type": "markdown",
   "id": "2a545d03-be77-4193-a346-a1568efb7daf",
   "metadata": {},
   "source": [
    "Now onto a basic configuration with a red blue box"
   ]
  },
  {
   "cell_type": "code",
   "execution_count": 2,
   "id": "57ac3d04-26a0-40b3-ba67-cf85560d1bde",
   "metadata": {},
   "outputs": [
    {
     "data": {
      "text/plain": [
       "0"
      ]
     },
     "execution_count": 2,
     "metadata": {},
     "output_type": "execute_result"
    }
   ],
   "source": [
    "C = ry.Config()\n",
    "C.addFile(ry.raiPath('../rai-robotModels/scenarios/pandaSingle.g'))\n",
    "\n",
    "midpoint = np.array([-0.105, 0.4, 0.705-.025+.1])\n",
    "C.addFrame(\"box\") \\\n",
    "    .setPosition(midpoint) \\\n",
    "    .setShape(ry.ST.ssBox, size=[0.08, 0.12, 0.08, 0.001]) \\\n",
    "    .setColor([1, 0, 0]) \\\n",
    "    .setContact(1) \\\n",
    "    .setMass(.1)\n",
    "\n",
    "# For convenience, a few definitions:\n",
    "gripper = \"l_gripper\"\n",
    "box = \"box\"\n",
    "table = \"table\"\n",
    "\n",
    "C.view()"
   ]
  },
  {
   "cell_type": "markdown",
   "id": "a8a63972-f72c-4d2c-b98e-bf2ff0bda842",
   "metadata": {},
   "source": [
    "## Defining the pull motion\n",
    "\n",
    "Now follows the implementation of the pull() function. The initial ManipulationModelling object calculates the start and end time slices, these are the initial contact with the box and the end pose of the robot on the target position. After this we compute the time slices in between with the sub-motion method of the M object. In the first sub-motion we define the path from the starting position of the robot to the pose where it is touching the box at the top. The second sub-motion defines the movement towards the target end pose defined earlier. "
   ]
  },
  {
   "cell_type": "code",
   "execution_count": 3,
   "id": "c6457551-93c9-4707-b5a0-c13dd1307d8e",
   "metadata": {},
   "outputs": [],
   "source": [
    "def pull(obj: str, target_pos: list[float], info: str=\"\", vis: bool=False) -> tuple:\n",
    "\tM = manip.ManipulationModelling(C, info, ['l_gripper'])\n",
    "\tM.setup_pick_and_place_waypoints(gripper, obj, 1e-1)\n",
    "\tM.pull([1., 2.], obj, gripper, table)\n",
    "\tM.target_xy_position(2., obj, target_pos)\n",
    "\tM.solve()\n",
    "\tif not M.feasible:\n",
    "\t\treturn False, []\n",
    "\n",
    "\tM1 = M.sub_motion(0, accumulated_collisions=False)\n",
    "\tM1.retractPush([.0, .15], gripper, .03)\n",
    "\tM1.approachPush([.85, 1.], gripper, .03)\n",
    "\tpath1 = M1.solve()\n",
    "\tif not M1.feasible:\n",
    "\t\treturn False, []\n",
    "\n",
    "\tM2 = M.sub_motion(1, accumulated_collisions=False)\n",
    "\tpath2 = M2.solve()\n",
    "\tif not M2.feasible:\n",
    "\t\treturn False, []\n",
    "\n",
    "\tif vis:\n",
    "\t\tM1.play(C, 1.)\n",
    "\t\tC.attach(gripper, obj)\n",
    "\t\tM2.play(C, 1.)\n",
    "\t\tC.attach(table, obj)\n",
    "\t\n",
    "\tpath = np.append(path1, path2, 0)\n",
    "\treturn True, path"
   ]
  },
  {
   "cell_type": "markdown",
   "id": "b198c0ae-ee11-4cc2-828f-46e2cadd901d",
   "metadata": {},
   "source": [
    "## Visualizing and Executing the motion\n",
    "\n",
    "We will want to test the output of our function with a real robot, or at least a physics simulation. For this porpuse we can define a bot object with which we will be able to interface with the robot."
   ]
  },
  {
   "cell_type": "code",
   "execution_count": 4,
   "id": "6ebc6ba4-c7c8-4da7-91c6-d28ef850691b",
   "metadata": {},
   "outputs": [],
   "source": [
    "bot = ry.BotOp(C, useRealRobot=False)\n",
    "bot.home(C)"
   ]
  },
  {
   "cell_type": "markdown",
   "id": "c2ead9a9-4cef-4bf1-98c6-438df16fe708",
   "metadata": {},
   "source": [
    "Now we try a random \"pull\" motion attempt_count number of times."
   ]
  },
  {
   "cell_type": "code",
   "execution_count": 5,
   "id": "7fd30ead-fca0-4992-88d7-d7cfc5e0de62",
   "metadata": {},
   "outputs": [
    {
     "name": "stdout",
     "output_type": "stream",
     "text": [
      "  -- feasible:0\n",
      "     { time: 0.043493, evals: 140, done: 1, feasible: 1, sos: 0.0551733, f: 0, ineq: 0, eq: 0.0920524 }\n",
      "  -- feasible:sub_motion_0--0\n",
      "     { time: 0.026816, evals: 34, done: 1, feasible: 1, sos: 0.459208, f: 0, ineq: 6.01906e-08, eq: 0.000153713 }\n",
      "  -- feasible:sub_motion_1--0\n",
      "     { time: 0.004879, evals: 8, done: 1, feasible: 1, sos: 0.0658799, f: 0, ineq: 0, eq: 3.90804e-05 }\n",
      "  -- feasible:1\n",
      "     { time: 0.020329, evals: 67, done: 1, feasible: 1, sos: 0.0335756, f: 0, ineq: 0, eq: 0.169063 }\n",
      "  -- feasible:sub_motion_0--1\n",
      "     { time: 0.043263, evals: 52, done: 1, feasible: 1, sos: 0.288627, f: 0, ineq: 0.000613689, eq: 0.000278802 }\n",
      "  -- feasible:sub_motion_1--1\n",
      "     { time: 0.00312, evals: 7, done: 1, feasible: 1, sos: 0.00712288, f: 0, ineq: 0, eq: 4.26719e-06 }\n",
      "  -- feasible:2\n",
      "     { time: 0.041599, evals: 118, done: 1, feasible: 1, sos: 0.0281162, f: 0, ineq: 0, eq: 0.102084 }\n",
      "  -- feasible:sub_motion_0--2\n",
      "     { time: 0.016104, evals: 22, done: 1, feasible: 1, sos: 0.20141, f: 0, ineq: 6.43639e-07, eq: 3.47831e-05 }\n",
      "  -- feasible:sub_motion_1--2\n",
      "     { time: 0.003969, evals: 7, done: 1, feasible: 1, sos: 0.0150897, f: 0, ineq: 0, eq: 8.63889e-06 }\n"
     ]
    },
    {
     "ename": "KeyboardInterrupt",
     "evalue": "",
     "output_type": "error",
     "traceback": [
      "\u001b[0;31m---------------------------------------------------------------------------\u001b[0m",
      "\u001b[0;31mKeyboardInterrupt\u001b[0m                         Traceback (most recent call last)",
      "Cell \u001b[0;32mIn[5], line 11\u001b[0m\n\u001b[1;32m      4\u001b[0m \u001b[38;5;28;01mfor\u001b[39;00m l \u001b[38;5;129;01min\u001b[39;00m \u001b[38;5;28mrange\u001b[39m(attempt_count):\n\u001b[1;32m      6\u001b[0m \ttarget_position \u001b[38;5;241m=\u001b[39m [\n\u001b[1;32m      7\u001b[0m \t\tmidpoint[\u001b[38;5;241m0\u001b[39m] \u001b[38;5;241m+\u001b[39m np\u001b[38;5;241m.\u001b[39mrandom\u001b[38;5;241m.\u001b[39muniform(\u001b[38;5;241m-\u001b[39m\u001b[38;5;241m.15\u001b[39m, \u001b[38;5;241m.15\u001b[39m),\n\u001b[1;32m      8\u001b[0m \t\tmidpoint[\u001b[38;5;241m1\u001b[39m] \u001b[38;5;241m+\u001b[39m np\u001b[38;5;241m.\u001b[39mrandom\u001b[38;5;241m.\u001b[39muniform(\u001b[38;5;241m-\u001b[39m\u001b[38;5;241m.15\u001b[39m, \u001b[38;5;241m.15\u001b[39m),\n\u001b[1;32m      9\u001b[0m \t\t\u001b[38;5;241m0.\u001b[39m]\n\u001b[0;32m---> 11\u001b[0m \tsuccess, path \u001b[38;5;241m=\u001b[39m \u001b[43mpull\u001b[49m\u001b[43m(\u001b[49m\u001b[43mbox\u001b[49m\u001b[43m,\u001b[49m\u001b[43m \u001b[49m\u001b[43mtarget_position\u001b[49m\u001b[43m,\u001b[49m\u001b[43m \u001b[49m\u001b[38;5;28;43mstr\u001b[39;49m\u001b[43m(\u001b[49m\u001b[43ml\u001b[49m\u001b[43m)\u001b[49m\u001b[43m,\u001b[49m\u001b[43m \u001b[49m\u001b[43mvis\u001b[49m\u001b[38;5;241;43m=\u001b[39;49m\u001b[38;5;28;43;01mTrue\u001b[39;49;00m\u001b[43m)\u001b[49m\n\u001b[1;32m     13\u001b[0m \t\u001b[38;5;28;01mif\u001b[39;00m success:\n\u001b[1;32m     14\u001b[0m \t\tbot\u001b[38;5;241m.\u001b[39mmove(path, [\u001b[38;5;241m3\u001b[39m])\n",
      "Cell \u001b[0;32mIn[3], line 23\u001b[0m, in \u001b[0;36mpull\u001b[0;34m(obj, target_pos, info, vis)\u001b[0m\n\u001b[1;32m     20\u001b[0m \t\u001b[38;5;28;01mreturn\u001b[39;00m \u001b[38;5;28;01mFalse\u001b[39;00m, []\n\u001b[1;32m     22\u001b[0m \u001b[38;5;28;01mif\u001b[39;00m vis:\n\u001b[0;32m---> 23\u001b[0m \t\u001b[43mM1\u001b[49m\u001b[38;5;241;43m.\u001b[39;49m\u001b[43mplay\u001b[49m\u001b[43m(\u001b[49m\u001b[43mC\u001b[49m\u001b[43m,\u001b[49m\u001b[43m \u001b[49m\u001b[38;5;241;43m1.\u001b[39;49m\u001b[43m)\u001b[49m\n\u001b[1;32m     24\u001b[0m \tC\u001b[38;5;241m.\u001b[39mattach(gripper, obj)\n\u001b[1;32m     25\u001b[0m \tM2\u001b[38;5;241m.\u001b[39mplay(C, \u001b[38;5;241m1.\u001b[39m)\n",
      "File \u001b[0;32m~/Robotic_Manipulation/manipulation.py:545\u001b[0m, in \u001b[0;36mManipulationModelling.play\u001b[0;34m(self, C, duration)\u001b[0m\n\u001b[1;32m    543\u001b[0m C\u001b[38;5;241m.\u001b[39msetJointState(\u001b[38;5;28mself\u001b[39m\u001b[38;5;241m.\u001b[39mpath[t])\n\u001b[1;32m    544\u001b[0m C\u001b[38;5;241m.\u001b[39mview(\u001b[38;5;28;01mFalse\u001b[39;00m, \u001b[38;5;124mf\u001b[39m\u001b[38;5;124m'\u001b[39m\u001b[38;5;124mstep \u001b[39m\u001b[38;5;132;01m{\u001b[39;00mt\u001b[38;5;132;01m}\u001b[39;00m\u001b[38;5;130;01m\\n\u001b[39;00m\u001b[38;5;132;01m{\u001b[39;00m\u001b[38;5;28mself\u001b[39m\u001b[38;5;241m.\u001b[39minfo\u001b[38;5;132;01m}\u001b[39;00m\u001b[38;5;124m'\u001b[39m)\n\u001b[0;32m--> 545\u001b[0m \u001b[43mtime\u001b[49m\u001b[38;5;241;43m.\u001b[39;49m\u001b[43msleep\u001b[49m\u001b[43m(\u001b[49m\u001b[43mduration\u001b[49m\u001b[38;5;241;43m/\u001b[39;49m\u001b[38;5;28;43mself\u001b[39;49m\u001b[38;5;241;43m.\u001b[39;49m\u001b[43mpath\u001b[49m\u001b[38;5;241;43m.\u001b[39;49m\u001b[43mshape\u001b[49m\u001b[43m[\u001b[49m\u001b[38;5;241;43m0\u001b[39;49m\u001b[43m]\u001b[49m\u001b[43m)\u001b[49m\n",
      "\u001b[0;31mKeyboardInterrupt\u001b[0m: "
     ]
    }
   ],
   "source": [
    "attempt_count = 30\n",
    "success_count = 0\n",
    "\n",
    "for l in range(attempt_count):\n",
    "\n",
    "\ttarget_position = [\n",
    "\t\tmidpoint[0] + np.random.uniform(-.15, .15),\n",
    "\t\tmidpoint[1] + np.random.uniform(-.15, .15),\n",
    "\t\t0.]\n",
    "\t\n",
    "\tsuccess, path = pull(box, target_position, str(l), vis=True)\n",
    "\n",
    "\tif success:\n",
    "\t\tbot.move(path, [3])\n",
    "\t\twhile bot.getTimeToEnd() > 0.:\n",
    "\t\t\tbot.sync(C)\n",
    "\t\t\n",
    "\tsuccess_count += 1 if success else 0\n",
    "\t\n",
    "print(f\"Successful motions: {success_count}/{attempt_count}\")"
   ]
  }
 ],
 "metadata": {
  "kernelspec": {
   "display_name": "Python 3 (ipykernel)",
   "language": "python",
   "name": "python3"
  },
  "language_info": {
   "codemirror_mode": {
    "name": "ipython",
    "version": 3
   },
   "file_extension": ".py",
   "mimetype": "text/x-python",
   "name": "python",
   "nbconvert_exporter": "python",
   "pygments_lexer": "ipython3",
   "version": "3.10.12"
  }
 },
 "nbformat": 4,
 "nbformat_minor": 5
}
