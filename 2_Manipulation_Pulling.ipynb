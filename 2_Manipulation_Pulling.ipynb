{
 "cells": [
  {
   "cell_type": "markdown",
   "id": "b15547c7-afd5-4b83-8bbb-4352f9cad0b4",
   "metadata": {},
   "source": [
    "# Manipulation.py: Pulling example\n",
    "\n",
    "This tutorial provides an example of realizing a \"pull\" motion of a robot arm on a box using of \"manipulation.py\" and \"robot_execution.py\". \n",
    "In the context of pulling a box with a robot arm, \"pulling\" refers to the action of applying force to move the box towards or away from a specific direction or location using the robot arm. This typically involves gripping the box securely with the robot's end-effector and then exerting force to shift the box along a desired path or trajectory. "
   ]
  },
  {
   "cell_type": "markdown",
   "id": "a893d10f-c2c8-4a25-add3-960f484c5cba",
   "metadata": {},
   "source": [
    "As always we start with the necessary imports"
   ]
  },
  {
   "cell_type": "code",
   "execution_count": 1,
   "id": "3d966884-f1e9-4a92-9994-aa7eee3b6010",
   "metadata": {},
   "outputs": [],
   "source": [
    "import numpy as np\n",
    "import robotic as ry\n",
    "import manipulation as manip"
   ]
  },
  {
   "cell_type": "markdown",
   "id": "2a545d03-be77-4193-a346-a1568efb7daf",
   "metadata": {},
   "source": [
    "Now onto a basic configuration with a single blue box"
   ]
  },
  {
   "cell_type": "code",
   "execution_count": 2,
   "id": "57ac3d04-26a0-40b3-ba67-cf85560d1bde",
   "metadata": {},
   "outputs": [
    {
     "data": {
      "text/plain": [
       "0"
      ]
     },
     "execution_count": 2,
     "metadata": {},
     "output_type": "execute_result"
    }
   ],
   "source": [
    "C = ry.Config()\n",
    "C.addFile(ry.raiPath('../rai-robotModels/scenarios/pandaSingle.g'))\n",
    "\n",
    "midpoint = np.array([-0.105, 0.4, 0.705-.025+.1])\n",
    "C.addFrame(\"box\") \\\n",
    "    .setPosition(midpoint) \\\n",
    "    .setShape(ry.ST.ssBox, size=[0.08, 0.12, 0.08, 0.001]) \\\n",
    "    .setColor([1, 0, 0]) \\\n",
    "    .setContact(1) \\\n",
    "    .setMass(.1)\n",
    "\n",
    "# For convenience, a few definitions:\n",
    "gripper = \"l_gripper\"\n",
    "box = \"box\"\n",
    "table = \"table\"\n",
    "\n",
    "C.view()"
   ]
  },
  {
   "cell_type": "markdown",
   "id": "a8a63972-f72c-4d2c-b98e-bf2ff0bda842",
   "metadata": {},
   "source": [
    "Now follows the implementation of the pull() function.  The function orchestrates a sequence of actions using a ManipulationModelling instance M to simulate a pulling operation on an object. Two sub-motions, M1 and M2, are derived from M to handle the pulling and approach phases, respectively. "
   ]
  },
  {
   "cell_type": "code",
   "execution_count": 3,
   "id": "c6457551-93c9-4707-b5a0-c13dd1307d8e",
   "metadata": {},
   "outputs": [],
   "source": [
    "def pull(obj: str, target_pos: list[float], info: str=\"\", vis: bool=False) -> tuple:\n",
    "\tM = manip.ManipulationModelling(C, info, ['l_gripper'])\n",
    "\tM.setup_pick_and_place_waypoints(gripper, obj, 1e-1)\n",
    "\tM.pull([1., 2.], obj, gripper, table)\n",
    "\tM.target_xy_position([2.], obj, target_pos)\n",
    "\tM.solve()\n",
    "\tif not M.feasible:\n",
    "\t\treturn False, []\n",
    "\n",
    "\tM1 = M.sub_motion(0, accumulated_collisions=False)\n",
    "\tM1.retractPush([.0, .15], gripper, .03)\n",
    "\tM1.approachPush([.85, 1.], gripper, .03)\n",
    "\tpath1 = M1.solve()\n",
    "\tif not M1.feasible:\n",
    "\t\treturn False, []\n",
    "\n",
    "\tM2 = M.sub_motion(1, accumulated_collisions=False)\n",
    "\tpath2 = M2.solve()\n",
    "\tif not M2.feasible:\n",
    "\t\treturn False, []\n",
    "\n",
    "\tif vis:\n",
    "\t\tM1.play(C, 1.)\n",
    "\t\tC.attach(gripper, obj)\n",
    "\t\tM2.play(C, 1.)\n",
    "\t\tC.attach(table, obj)\n",
    "\t\n",
    "\tpath = np.append(path1, path2, 0)\n",
    "\treturn True, path"
   ]
  },
  {
   "cell_type": "markdown",
   "id": "b198c0ae-ee11-4cc2-828f-46e2cadd901d",
   "metadata": {},
   "source": [
    "In the case of using a real robot, you can extend this function by incorporating the following commented code segment, which utilizes botop to execute the motion paths generated. It's important to note that the pulling action may not function correctly in simulation due to the challenges associated with accurately simulating physics for this type of movement."
   ]
  },
  {
   "cell_type": "code",
   "execution_count": 4,
   "id": "6ebc6ba4-c7c8-4da7-91c6-d28ef850691b",
   "metadata": {},
   "outputs": [],
   "source": [
    "bot = ry.BotOp(C, useRealRobot=False)\n",
    "bot.home(C)"
   ]
  },
  {
   "cell_type": "markdown",
   "id": "c2ead9a9-4cef-4bf1-98c6-438df16fe708",
   "metadata": {},
   "source": [
    "Now we try a random \"pull\" motion attempt_count number of times. Try to play around with the placePosition variable or different objects if you like"
   ]
  },
  {
   "cell_type": "code",
   "execution_count": 5,
   "id": "7fd30ead-fca0-4992-88d7-d7cfc5e0de62",
   "metadata": {},
   "outputs": [
    {
     "name": "stdout",
     "output_type": "stream",
     "text": [
      "  -- feasible:0\n",
      "     { time: 0.070243, evals: 201, done: 1, feasible: 1, sos: 0.0565112, f: 0, ineq: 0, eq: 0.0466609 }\n",
      "  -- feasible:sub_motion_0--0\n",
      "     { time: 0.028233, evals: 40, done: 1, feasible: 1, sos: 0.458356, f: 0, ineq: 5.97413e-08, eq: 0.000153222 }\n",
      "  -- feasible:sub_motion_1--0\n",
      "     { time: 0.003643, evals: 8, done: 1, feasible: 1, sos: 0.0712723, f: 0, ineq: 0, eq: 4.3429e-05 }\n",
      "  -- feasible:1\n",
      "     { time: 0.039542, evals: 120, done: 1, feasible: 1, sos: 0.0337778, f: 0, ineq: 0, eq: 0.0632293 }\n",
      "  -- feasible:sub_motion_0--1\n",
      "     { time: 0.034501, evals: 52, done: 1, feasible: 1, sos: 0.369191, f: 0, ineq: 0.000473421, eq: 0.000267068 }\n",
      "  -- feasible:sub_motion_1--1\n",
      "     { time: 0.007352, evals: 7, done: 1, feasible: 1, sos: 0.0161418, f: 0, ineq: 0, eq: 1.01445e-05 }\n",
      "  -- feasible:2\n",
      "     { time: 0.029019, evals: 85, done: 1, feasible: 1, sos: 0.030578, f: 0, ineq: 0, eq: 0.0611684 }\n",
      "  -- feasible:sub_motion_0--2\n",
      "     { time: 0.01812, evals: 25, done: 1, feasible: 1, sos: 0.293484, f: 0, ineq: 5.61276e-07, eq: 3.60493e-05 }\n",
      "  -- feasible:sub_motion_1--2\n",
      "     { time: 0.002907, evals: 7, done: 1, feasible: 1, sos: 0.00791715, f: 0, ineq: 0, eq: 4.99223e-06 }\n",
      "  -- feasible:3\n",
      "     { time: 0.066078, evals: 200, done: 1, feasible: 1, sos: 0.0351525, f: 0, ineq: 0, eq: 0.103564 }\n",
      "  -- feasible:sub_motion_0--3\n",
      "     { time: 0.015252, evals: 22, done: 1, feasible: 1, sos: 0.285855, f: 0, ineq: 1.56271e-06, eq: 4.60123e-05 }\n",
      "  -- feasible:sub_motion_1--3\n",
      "     { time: 0.003417, evals: 8, done: 1, feasible: 1, sos: 0.0761452, f: 0, ineq: 0, eq: 4.83542e-05 }\n",
      "  -- feasible:4\n",
      "     { time: 0.066334, evals: 200, done: 1, feasible: 1, sos: 0.0342093, f: 0, ineq: 0, eq: 0.0707927 }\n",
      "  -- feasible:sub_motion_0--4\n",
      "     { time: 0.030106, evals: 35, done: 1, feasible: 1, sos: 0.447283, f: 0, ineq: 2.16384e-07, eq: 5.49401e-05 }\n",
      "  -- feasible:sub_motion_1--4\n",
      "     { time: 0.003358, evals: 7, done: 1, feasible: 1, sos: 0.00801642, f: 0, ineq: 0, eq: 5.14914e-06 }\n",
      "  -- feasible:5\n",
      "     { time: 0.047693, evals: 145, done: 1, feasible: 1, sos: 0.029643, f: 0, ineq: 0, eq: 0.107636 }\n",
      "  -- feasible:sub_motion_0--5\n",
      "     { time: 0.016722, evals: 22, done: 1, feasible: 1, sos: 0.289246, f: 0, ineq: 1.00721e-06, eq: 3.67915e-05 }\n",
      "  -- feasible:sub_motion_1--5\n",
      "     { time: 0.003108, evals: 7, done: 1, feasible: 1, sos: 0.00659543, f: 0, ineq: 0, eq: 3.62852e-06 }\n",
      "  -- feasible:6\n",
      "     { time: 0.03134, evals: 89, done: 1, feasible: 1, sos: 0.0410495, f: 0, ineq: 0, eq: 0.0683775 }\n",
      "  -- feasible:sub_motion_0--6\n",
      "     { time: 0.017389, evals: 22, done: 1, feasible: 1, sos: 0.288621, f: 0, ineq: 1.11106e-06, eq: 3.57073e-05 }\n",
      "  -- feasible:sub_motion_1--6\n",
      "     { time: 0.004386, evals: 8, done: 1, feasible: 1, sos: 0.0514355, f: 0, ineq: 0, eq: 3.61341e-05 }\n",
      "  -- feasible:7\n",
      "     { time: 0.067579, evals: 200, done: 1, feasible: 1, sos: 0.0327493, f: 0, ineq: 0, eq: 0.105446 }\n",
      "  -- feasible:sub_motion_0--7\n",
      "     { time: 0.033916, evals: 41, done: 1, feasible: 1, sos: 0.379075, f: 0, ineq: 3.38522e-06, eq: 8.16796e-05 }\n",
      "  -- feasible:sub_motion_1--7\n",
      "     { time: 0.00309, evals: 7, done: 1, feasible: 1, sos: 0.0105858, f: 0, ineq: 0, eq: 6.61369e-06 }\n",
      "  -- feasible:8\n",
      "     { time: 0.061493, evals: 196, done: 1, feasible: 1, sos: 0.0335962, f: 0, ineq: 0, eq: 0.0882212 }\n",
      "  -- feasible:sub_motion_0--8\n",
      "     { time: 0.016916, evals: 23, done: 1, feasible: 1, sos: 0.306105, f: 0, ineq: 1.40489e-06, eq: 4.09616e-05 }\n",
      "  -- feasible:sub_motion_1--8\n",
      "     { time: 0.00406, evals: 8, done: 1, feasible: 1, sos: 0.051855, f: 0, ineq: 0, eq: 4.17426e-05 }\n",
      "  -- feasible:9\n",
      "     { time: 0.036134, evals: 102, done: 1, feasible: 1, sos: 0.0349733, f: 0, ineq: 0, eq: 0.0631419 }\n",
      "  -- feasible:sub_motion_0--9\n",
      "     { time: 0.023602, evals: 35, done: 1, feasible: 1, sos: 0.3787, f: 0, ineq: 9.2191e-08, eq: 7.26695e-05 }\n",
      "  -- feasible:sub_motion_1--9\n",
      "     { time: 0.004114, evals: 7, done: 1, feasible: 1, sos: 0.0105078, f: 0, ineq: 0, eq: 6.53162e-06 }\n"
     ]
    },
    {
     "ename": "KeyboardInterrupt",
     "evalue": "",
     "output_type": "error",
     "traceback": [
      "\u001b[0;31m---------------------------------------------------------------------------\u001b[0m",
      "\u001b[0;31mKeyboardInterrupt\u001b[0m                         Traceback (most recent call last)",
      "Cell \u001b[0;32mIn[5], line 16\u001b[0m\n\u001b[1;32m     14\u001b[0m \t\tbot\u001b[38;5;241m.\u001b[39mmove(path, [\u001b[38;5;241m3\u001b[39m])\n\u001b[1;32m     15\u001b[0m \t\t\u001b[38;5;28;01mwhile\u001b[39;00m bot\u001b[38;5;241m.\u001b[39mgetTimeToEnd() \u001b[38;5;241m>\u001b[39m \u001b[38;5;241m0.\u001b[39m:\n\u001b[0;32m---> 16\u001b[0m \t\t\t\u001b[43mbot\u001b[49m\u001b[38;5;241;43m.\u001b[39;49m\u001b[43msync\u001b[49m\u001b[43m(\u001b[49m\u001b[43mC\u001b[49m\u001b[43m)\u001b[49m\n\u001b[1;32m     18\u001b[0m \tsuccess_count \u001b[38;5;241m+\u001b[39m\u001b[38;5;241m=\u001b[39m \u001b[38;5;241m1\u001b[39m \u001b[38;5;28;01mif\u001b[39;00m success \u001b[38;5;28;01melse\u001b[39;00m \u001b[38;5;241m0\u001b[39m\n\u001b[1;32m     20\u001b[0m \u001b[38;5;28mprint\u001b[39m(\u001b[38;5;124mf\u001b[39m\u001b[38;5;124m\"\u001b[39m\u001b[38;5;124mSuccessful motions: \u001b[39m\u001b[38;5;132;01m{\u001b[39;00msuccess_count\u001b[38;5;132;01m}\u001b[39;00m\u001b[38;5;124m/\u001b[39m\u001b[38;5;132;01m{\u001b[39;00mattempt_count\u001b[38;5;132;01m}\u001b[39;00m\u001b[38;5;124m\"\u001b[39m)\n",
      "\u001b[0;31mKeyboardInterrupt\u001b[0m: "
     ]
    }
   ],
   "source": [
    "attempt_count = 30\n",
    "success_count = 0\n",
    "\n",
    "for l in range(attempt_count):\n",
    "\n",
    "\ttarget_position = [\n",
    "\t\tmidpoint[0] + np.random.uniform(-.15, .15),\n",
    "\t\tmidpoint[1] + np.random.uniform(-.15, .15),\n",
    "\t\t0.]\n",
    "\t\n",
    "\tsuccess, path = pull(box, target_position, str(l), vis=True)\n",
    "\n",
    "\tif success:\n",
    "\t\tbot.move(path, [3])\n",
    "\t\twhile bot.getTimeToEnd() > 0.:\n",
    "\t\t\tbot.sync(C)\n",
    "\t\t\n",
    "\tsuccess_count += 1 if success else 0\n",
    "\t\n",
    "print(f\"Successful motions: {success_count}/{attempt_count}\")"
   ]
  }
 ],
 "metadata": {
  "kernelspec": {
   "display_name": "Python 3 (ipykernel)",
   "language": "python",
   "name": "python3"
  },
  "language_info": {
   "codemirror_mode": {
    "name": "ipython",
    "version": 3
   },
   "file_extension": ".py",
   "mimetype": "text/x-python",
   "name": "python",
   "nbconvert_exporter": "python",
   "pygments_lexer": "ipython3",
   "version": "3.10.12"
  }
 },
 "nbformat": 4,
 "nbformat_minor": 5
}
