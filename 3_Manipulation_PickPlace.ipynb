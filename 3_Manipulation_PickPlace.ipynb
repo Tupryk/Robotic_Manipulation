{
 "cells": [
  {
   "cell_type": "markdown",
   "metadata": {},
   "source": [
    "# Manipulation.py: Pick and Place example"
   ]
  },
  {
   "cell_type": "code",
   "execution_count": 1,
   "metadata": {},
   "outputs": [],
   "source": [
    "import numpy as np\n",
    "import robotic as ry\n",
    "import manipulation as manip"
   ]
  },
  {
   "cell_type": "code",
   "execution_count": 2,
   "metadata": {},
   "outputs": [
    {
     "data": {
      "text/plain": [
       "0"
      ]
     },
     "execution_count": 2,
     "metadata": {},
     "output_type": "execute_result"
    }
   ],
   "source": [
    "C = ry.Config()\n",
    "C.addFile(ry.raiPath('../rai-robotModels/scenarios/pandaSingle.g'))\n",
    "\n",
    "midpoint = np.array([-0.105, 0.4, 0.705-.025+.1])\n",
    "C.addFrame(\"box\") \\\n",
    "    .setPosition(midpoint) \\\n",
    "    .setShape(ry.ST.ssBox, size=[0.06, 0.12, 0.06, 0.001]) \\\n",
    "    .setColor([1, 0, 0]) \\\n",
    "    .setContact(1) \\\n",
    "    .setMass(.1)\n",
    "\n",
    "# For convenience, a few definitions:\n",
    "gripper = \"l_gripper\"\n",
    "box = \"box\"\n",
    "table = \"table\"\n",
    "\n",
    "C.view()"
   ]
  },
  {
   "cell_type": "code",
   "execution_count": 3,
   "metadata": {},
   "outputs": [],
   "source": [
    "bot = ry.BotOp(C, useRealRobot=False)\n",
    "bot.home(C)\n",
    "bot.gripperMove(ry._left)"
   ]
  },
  {
   "cell_type": "code",
   "execution_count": 4,
   "metadata": {},
   "outputs": [],
   "source": [
    "def pick_place(obj: str, grasp_direction: str, place_direction: str, place_position: list[float], info: str=\"\", vis: bool=False) -> bool:\n",
    "\tM = manip.ManipulationModelling(C, info, helpers=[gripper])\n",
    "\tM.setup_pick_and_place_waypoints(gripper, obj, homing_scale=1e-1)\n",
    "\tM.grasp_box(1., gripper, obj, \"l_palm\", grasp_direction)\n",
    "\tM.place_box(2., obj, table, \"l_palm\", place_direction)\n",
    "\tM.target_relative_xy_position(2., obj, table, place_position)\n",
    "\tM.solve()\n",
    "\tif not M.feasible:\n",
    "\t\treturn False, [], []\n",
    "\n",
    "\tM1 = M.sub_motion(0)\n",
    "\tM1.keep_distance([.3,.7], \"l_palm\", obj, margin=.05)\n",
    "\tM1.retract([.0, .2], gripper)\n",
    "\tM1.approach([.8, 1.], gripper)\n",
    "\tpath1 = M1.solve()\n",
    "\tif not M1.feasible:\n",
    "\t\treturn False, [], []\n",
    "\n",
    "\tM2 = M.sub_motion(1)\n",
    "\tM2.keep_distance([], table, \"panda_collCameraWrist\")\n",
    "\tM2.keep_distance([.2, .8], table, obj, .04)\n",
    "\tM2.keep_distance([], \"l_palm\", obj)\n",
    "\tpath2 = M2.solve()\n",
    "\tif not M2.feasible:\n",
    "\t\treturn False, [], []\n",
    "\n",
    "\tif vis:\n",
    "\t\tM1.play(C, 1.)\n",
    "\t\tC.attach(gripper, obj)\n",
    "\t\tM2.play(C, 1.)\n",
    "\t\tC.attach(table, obj)\n",
    "\n",
    "\treturn True, path1, path2"
   ]
  },
  {
   "cell_type": "code",
   "execution_count": 5,
   "metadata": {},
   "outputs": [
    {
     "name": "stdout",
     "output_type": "stream",
     "text": [
      "  -- feasible:0\n",
      "     { time: 0.145648, evals: 200, done: 1, feasible: 1, sos: 0.279742, f: 0, ineq: 0.0130856, eq: 0.46153 }\n",
      "  -- infeasible:sub_motion_0--0\n",
      "     { time: 0.535132, evals: 201, done: 1, feasible: 0, sos: 63.6724, f: 0, ineq: 0.00292133, eq: 1.00778 }\n",
      "  -- infeasible:1\n",
      "     { time: 0.100432, evals: 200, done: 1, feasible: 0, sos: 0.220718, f: 0, ineq: 0.215775, eq: 1.20614 }\n",
      "  -- feasible:2\n",
      "     { time: 0.102486, evals: 201, done: 1, feasible: 1, sos: 0.301228, f: 0, ineq: 0.0210772, eq: 0.44881 }\n",
      "  -- infeasible:sub_motion_0--2\n",
      "     { time: 0.302416, evals: 112, done: 1, feasible: 0, sos: 7.5041, f: 0, ineq: 0, eq: 1.70127 }\n",
      "  -- infeasible:3\n",
      "     { time: 0.114944, evals: 200, done: 1, feasible: 0, sos: 0.274281, f: 0, ineq: 0.0124837, eq: 0.500012 }\n",
      "  -- feasible:4\n",
      "     { time: 0.054934, evals: 105, done: 1, feasible: 1, sos: 0.108352, f: 0, ineq: 0.0029426, eq: 0.0349575 }\n",
      "  -- feasible:sub_motion_0--4\n",
      "     { time: 0.198137, evals: 95, done: 1, feasible: 1, sos: 2.0882, f: 0, ineq: 1.16237e-06, eq: 0.0475387 }\n",
      "  -- feasible:sub_motion_1--4\n",
      "     { time: 0.184787, evals: 39, done: 1, feasible: 1, sos: 0.194703, f: 0, ineq: 0.000134637, eq: 0.457279 }\n",
      "-- kin_physx.cpp:addJoint:298(0) ADDING JOINT l_panda_joint7-box of type rigid with rel [0, 0, 0]\n",
      "-- kin_physx.cpp:removeJoint:891(0) REMOVING JOINT 0x61a3cfc90f40-0x61a3cfe5c260 of type rigid\n",
      "  -- feasible:5\n",
      "     { time: 0.097803, evals: 90, done: 1, feasible: 1, sos: 0.102132, f: 0, ineq: 0.00981878, eq: 0.249348 }\n",
      "  -- feasible:sub_motion_0--5\n",
      "     { time: 0.195215, evals: 67, done: 1, feasible: 1, sos: 12.1168, f: 0, ineq: 0, eq: 0.109102 }\n",
      "  -- infeasible:sub_motion_1--5\n",
      "     { time: 0.061908, evals: 14, done: 1, feasible: 0, sos: 0.215914, f: 0, ineq: 5.90642e-05, eq: 1.49882 }\n",
      "  -- feasible:6\n",
      "     { time: 0.066047, evals: 120, done: 1, feasible: 1, sos: 0.0473217, f: 0, ineq: 0, eq: 0.00162115 }\n",
      "  -- feasible:sub_motion_0--6\n",
      "     { time: 0.176042, evals: 50, done: 1, feasible: 1, sos: 1.24031, f: 0, ineq: 1.3259e-07, eq: 0.0196908 }\n",
      "  -- feasible:sub_motion_1--6\n",
      "     { time: 0.058207, evals: 12, done: 1, feasible: 1, sos: 0.104096, f: 0, ineq: 2.87322e-06, eq: 7.19029e-05 }\n",
      "-- kin_physx.cpp:addJoint:298(0) ADDING JOINT l_panda_joint7-box of type rigid with rel [0, 0, 0]\n",
      "-- kin_physx.cpp:removeJoint:891(0) REMOVING JOINT 0x61a3cfc90f40-0x61a3cfe5c260 of type rigid\n",
      "  -- feasible:7\n",
      "     { time: 0.086928, evals: 70, done: 1, feasible: 1, sos: 0.120268, f: 0, ineq: 0.00662254, eq: 0.0384341 }\n",
      "  -- feasible:sub_motion_0--7\n",
      "     { time: 0.216014, evals: 66, done: 1, feasible: 1, sos: 0.774121, f: 0, ineq: 0, eq: 0.043448 }\n",
      "  -- feasible:sub_motion_1--7\n",
      "     { time: 0.171715, evals: 38, done: 1, feasible: 1, sos: 0.728376, f: 0, ineq: 0.000257608, eq: 0.432106 }\n",
      "-- kin_physx.cpp:addJoint:298(0) ADDING JOINT l_panda_joint7-box of type rigid with rel [0, 0, 0]\n",
      "-- kin_physx.cpp:removeJoint:891(0) REMOVING JOINT 0x61a3cfc90f40-0x61a3cfe5c260 of type rigid\n",
      "  -- feasible:8\n",
      "     { time: 0.154289, evals: 201, done: 1, feasible: 1, sos: 0.16323, f: 0, ineq: 0.00586245, eq: 0.295817 }\n",
      "  -- feasible:sub_motion_0--8\n",
      "     { time: 0.692061, evals: 200, done: 1, feasible: 1, sos: 2.21381, f: 0, ineq: 0.000100493, eq: 0.122589 }\n",
      "  -- feasible:sub_motion_1--8\n",
      "     { time: 0.128037, evals: 30, done: 1, feasible: 1, sos: 0.5491, f: 0, ineq: 0.00561028, eq: 0.143228 }\n",
      "-- kin_physx.cpp:addJoint:298(0) ADDING JOINT l_panda_joint7-box of type rigid with rel [0, 0, 0]\n",
      "-- kin_physx.cpp:removeJoint:891(0) REMOVING JOINT 0x61a3cfc90f40-0x61a3cfe5c260 of type rigid\n",
      "  -- infeasible:9\n",
      "     { time: 0.118839, evals: 129, done: 1, feasible: 0, sos: 0.185588, f: 0, ineq: 0.00365324, eq: 0.541932 }\n",
      "  -- feasible:10\n",
      "     { time: 0.037772, evals: 68, done: 1, feasible: 1, sos: 0.0753746, f: 0, ineq: 0.0124044, eq: 0.150974 }\n",
      "  -- feasible:sub_motion_0--10\n",
      "     { time: 0.630465, evals: 201, done: 1, feasible: 1, sos: 5.12665, f: 0, ineq: 2.18631e-05, eq: 0.0908639 }\n",
      "  -- infeasible:sub_motion_1--10\n",
      "     { time: 0.073204, evals: 17, done: 1, feasible: 0, sos: 0.0961323, f: 0, ineq: 1.56658e-06, eq: 1.43211 }\n",
      "  -- feasible:11\n",
      "     { time: 0.107754, evals: 200, done: 1, feasible: 1, sos: 0.138657, f: 0, ineq: 0.0186886, eq: 0.142525 }\n",
      "  -- feasible:sub_motion_0--11\n",
      "     { time: 0.461136, evals: 141, done: 1, feasible: 1, sos: 7.69808, f: 0, ineq: 0, eq: 0.0931674 }\n",
      "  -- infeasible:sub_motion_1--11\n",
      "     { time: 0.160848, evals: 35, done: 1, feasible: 0, sos: 0.510348, f: 0, ineq: 0.00683708, eq: 1.50744 }\n",
      "  -- infeasible:12\n",
      "     { time: 0.1034, evals: 201, done: 1, feasible: 0, sos: 0.181945, f: 0, ineq: 0.215416, eq: 1.20329 }\n",
      "  -- feasible:13\n",
      "     { time: 0.073301, evals: 148, done: 1, feasible: 1, sos: 0.111901, f: 0, ineq: 1.19126e-05, eq: 0.000732565 }\n",
      "  -- feasible:sub_motion_0--13\n",
      "     { time: 0.1517, evals: 40, done: 1, feasible: 1, sos: 0.309476, f: 0, ineq: 3.57243e-06, eq: 0.00973662 }\n",
      "  -- feasible:sub_motion_1--13\n",
      "     { time: 0.165951, evals: 48, done: 1, feasible: 1, sos: 0.584062, f: 0, ineq: 5.11727e-05, eq: 3.09855e-05 }\n",
      "-- kin_physx.cpp:addJoint:298(0) ADDING JOINT l_panda_joint7-box of type rigid with rel [0, 0, 0]\n",
      "-- kin_physx.cpp:removeJoint:891(0) REMOVING JOINT 0x61a3cfc90f40-0x61a3cfe5c260 of type rigid\n",
      "  -- feasible:14\n",
      "     { time: 0.078809, evals: 94, done: 1, feasible: 1, sos: 0.153992, f: 0, ineq: 0.000298674, eq: 0.00109248 }\n",
      "  -- feasible:sub_motion_0--14\n",
      "     { time: 0.138212, evals: 44, done: 1, feasible: 1, sos: 1.10139, f: 0, ineq: 6.33834e-07, eq: 0.0194084 }\n",
      "  -- feasible:sub_motion_1--14\n",
      "     { time: 0.187752, evals: 57, done: 1, feasible: 1, sos: 0.585936, f: 0, ineq: 1.77095e-05, eq: 8.14854e-06 }\n",
      "-- kin_physx.cpp:addJoint:298(0) ADDING JOINT l_panda_joint7-box of type rigid with rel [0, 0, 0]\n",
      "-- kin_physx.cpp:removeJoint:891(0) REMOVING JOINT 0x61a3cfc90f40-0x61a3cfe5c260 of type rigid\n",
      "  -- feasible:15\n",
      "     { time: 0.05473, evals: 33, done: 1, feasible: 1, sos: 0.126285, f: 0, ineq: 5.88808e-08, eq: 0.00037989 }\n",
      "  -- feasible:sub_motion_0--15\n",
      "     { time: 0.153535, evals: 49, done: 1, feasible: 1, sos: 0.986783, f: 0, ineq: 1.22747e-06, eq: 0.00988337 }\n",
      "  -- feasible:sub_motion_1--15\n",
      "     { time: 0.212219, evals: 56, done: 1, feasible: 1, sos: 0.533673, f: 0, ineq: 2.22709e-07, eq: 1.43429e-05 }\n"
     ]
    },
    {
     "ename": "KeyboardInterrupt",
     "evalue": "",
     "output_type": "error",
     "traceback": [
      "\u001b[0;31m---------------------------------------------------------------------------\u001b[0m",
      "\u001b[0;31mKeyboardInterrupt\u001b[0m                         Traceback (most recent call last)",
      "Cell \u001b[0;32mIn[5], line 19\u001b[0m\n\u001b[1;32m     17\u001b[0m bot\u001b[38;5;241m.\u001b[39mmove(path1, [\u001b[38;5;241m3\u001b[39m])\n\u001b[1;32m     18\u001b[0m \u001b[38;5;28;01mwhile\u001b[39;00m bot\u001b[38;5;241m.\u001b[39mgetTimeToEnd() \u001b[38;5;241m>\u001b[39m \u001b[38;5;241m0.\u001b[39m:\n\u001b[0;32m---> 19\u001b[0m \t\u001b[43mbot\u001b[49m\u001b[38;5;241;43m.\u001b[39;49m\u001b[43msync\u001b[49m\u001b[43m(\u001b[49m\u001b[43mC\u001b[49m\u001b[43m)\u001b[49m\n\u001b[1;32m     20\u001b[0m bot\u001b[38;5;241m.\u001b[39mgripperClose(ry\u001b[38;5;241m.\u001b[39m_left)\n\u001b[1;32m     21\u001b[0m \u001b[38;5;28;01mwhile\u001b[39;00m \u001b[38;5;129;01mnot\u001b[39;00m bot\u001b[38;5;241m.\u001b[39mgripperDone(ry\u001b[38;5;241m.\u001b[39m_left):\n",
      "\u001b[0;31mKeyboardInterrupt\u001b[0m: "
     ]
    }
   ],
   "source": [
    "attempt_count = 100\n",
    "success_count = 0\n",
    "\n",
    "for l in range(attempt_count):\n",
    "\n",
    "\ttarget_position = [\n",
    "\t\tmidpoint[0] + np.random.uniform(-.15, .15),\n",
    "\t\tmidpoint[1] + np.random.uniform(-.15, .15),\n",
    "\t\t0.]\n",
    "\t\n",
    "\tgrasp_direction = np.random.choice([\"x\", \"z\"])  # \"y\" not possible: box too large\n",
    "\tplace_direction = np.random.choice([\"x\", \"y\", \"z\", \"xNeg\", \"yNeg\", \"zNeg\"])\n",
    "\n",
    "\tsuccess, path1, path2 = pick_place(box, grasp_direction, place_direction, target_position, str(l), vis=True)\n",
    "\n",
    "\tif success:\n",
    "\t\tbot.move(path1, [3])\n",
    "\t\twhile bot.getTimeToEnd() > 0.:\n",
    "\t\t\tbot.sync(C)\n",
    "\t\tbot.gripperClose(ry._left)\n",
    "\t\twhile not bot.gripperDone(ry._left):\n",
    "\t\t\tbot.sync(C)\n",
    "\t\tbot.move(path2, [3])\n",
    "\t\twhile bot.getTimeToEnd() > 0.:\n",
    "\t\t\tbot.sync(C)\n",
    "\t\tbot.gripperMove(ry._left)\n",
    "\t\twhile not bot.gripperDone(ry._left):\n",
    "\t\t\tbot.sync(C)\n",
    "\t\t\n",
    "\tsuccess_count += 1 if success else 0\n",
    "\t\n",
    "print(f\"Successful motions: {success_count}/{attempt_count}\")"
   ]
  }
 ],
 "metadata": {
  "kernelspec": {
   "display_name": "Python 3",
   "language": "python",
   "name": "python3"
  },
  "language_info": {
   "codemirror_mode": {
    "name": "ipython",
    "version": 3
   },
   "file_extension": ".py",
   "mimetype": "text/x-python",
   "name": "python",
   "nbconvert_exporter": "python",
   "pygments_lexer": "ipython3",
   "version": "3.10.12"
  }
 },
 "nbformat": 4,
 "nbformat_minor": 2
}
