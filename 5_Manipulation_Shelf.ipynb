{
 "cells": [
  {
   "cell_type": "markdown",
   "metadata": {},
   "source": [
    "# Manipulation.py: Shelf"
   ]
  },
  {
   "cell_type": "code",
   "execution_count": 1,
   "metadata": {},
   "outputs": [],
   "source": [
    "import numpy as np\n",
    "import robotic as ry\n",
    "import manipulation as manip"
   ]
  },
  {
   "cell_type": "code",
   "execution_count": 2,
   "metadata": {},
   "outputs": [
    {
     "data": {
      "text/plain": [
       "0"
      ]
     },
     "execution_count": 2,
     "metadata": {},
     "output_type": "execute_result"
    }
   ],
   "source": [
    "C = ry.Config()\n",
    "C.addFile(ry.raiPath('../rai-robotModels/scenarios/pandaSingle.g'))\n",
    "\n",
    "C.delFrame(\"panda_collCameraWrist\")\n",
    "C.getFrame(\"table\").setShape(ry.ST.ssBox, size=[1., 1., .1, .02])\n",
    "\n",
    "# Shelf\n",
    "pos = np.array([-.7, 0., 1.])\n",
    "small_opening_dims = [.2, .2, .2]\n",
    "inner_wall_width = .005\n",
    "\n",
    "openings_small = [4, 6]\n",
    "\n",
    "for i in range(openings_small[0]):\n",
    "\tfor j in range(openings_small[1]):\n",
    "\t\topening_pos = np.array([0, i*small_opening_dims[0], j*small_opening_dims[1]]) + pos - np.array([0, openings_small[0]*small_opening_dims[0]*.5, openings_small[1]*small_opening_dims[1]*.5]) + np.array([0, small_opening_dims[0]*.5, small_opening_dims[1]*.5])\n",
    "\t\tC.addFrame(f\"small_box_left_{i}_{j}\") \\\n",
    "\t\t\t.setPosition(opening_pos - np.array([0., small_opening_dims[0]*.5, 0.])) \\\n",
    "\t\t\t.setShape(ry.ST.ssBox, size=[small_opening_dims[2], inner_wall_width, small_opening_dims[1], 0.005]) \\\n",
    "\t\t\t.setColor([1., 1., 0.]) \\\n",
    "\t\t\t.setContact(1)\n",
    "\t\tC.addFrame(f\"small_box_right_{i}_{j}\") \\\n",
    "\t\t\t.setPosition(opening_pos - np.array([0., -small_opening_dims[0]*.5, 0.])) \\\n",
    "\t\t\t.setShape(ry.ST.ssBox, size=[small_opening_dims[2], inner_wall_width, small_opening_dims[1], 0.005]) \\\n",
    "\t\t\t.setColor([1., 1., 0.]) \\\n",
    "\t\t\t.setContact(1)\n",
    "\t\tC.addFrame(f\"small_box_top_{i}_{j}\") \\\n",
    "\t\t\t.setPosition(opening_pos - np.array([0., 0., -small_opening_dims[1]*.5])) \\\n",
    "\t\t\t.setShape(ry.ST.ssBox, size=[small_opening_dims[2], small_opening_dims[0], inner_wall_width, 0.005]) \\\n",
    "\t\t\t.setColor([1., 1., 0.]) \\\n",
    "\t\t\t.setContact(1)\n",
    "\t\tC.addFrame(f\"small_box_bottom_{i}_{j}\") \\\n",
    "\t\t\t.setPosition(opening_pos - np.array([0., 0., small_opening_dims[1]*.5])) \\\n",
    "\t\t\t.setShape(ry.ST.ssBox, size=[small_opening_dims[2], small_opening_dims[0], inner_wall_width, 0.005]) \\\n",
    "\t\t\t.setColor([1., 1., 0.]) \\\n",
    "\t\t\t.setContact(1)\n",
    "\t\tC.addFrame(f\"small_box_blocker_{i}_{j}\") \\\n",
    "\t\t\t.setPosition(opening_pos - np.array([-small_opening_dims[0]*.5, 0., small_opening_dims[1]*.5-.015])) \\\n",
    "\t\t\t.setShape(ry.ST.ssBox, size=[inner_wall_width, small_opening_dims[0], .03, 0.005]) \\\n",
    "\t\t\t.setColor([1., 1., 0.]) \\\n",
    "\t\t\t.setContact(1)\n",
    "\t\t\n",
    "\t\tC.addFrame(f\"small_box_inside_{i}_{j}\") \\\n",
    "\t\t\t.setPosition(opening_pos) \\\n",
    "\t\t\t.setShape(ry.ST.ssBox, size=[small_opening_dims[2], small_opening_dims[0], small_opening_dims[1], 0.005]) \\\n",
    "\t\t\t.setColor([0., 0., 1., .5])\n",
    "\t\t\n",
    "C.addFrame(f\"shelf_back_{i}_{j}\") \\\n",
    "\t.setPosition(pos - np.array([small_opening_dims[2]*.5, 0, 0])) \\\n",
    "\t.setShape(ry.ST.ssBox, size=[inner_wall_width, openings_small[0]*small_opening_dims[0], openings_small[1]*small_opening_dims[1], 0.005]) \\\n",
    "\t.setColor([1., 1., 0.]) \\\n",
    "\t.setContact(1)\n",
    "\n",
    "# Objects\n",
    "C.addFrame(f\"box\") \\\n",
    "\t.setPosition([0, 0, .7]) \\\n",
    "\t.setShape(ry.ST.ssBox, size=[.04, .04, .12, 0.005]) \\\n",
    "\t.setColor([1., 0., 0.]) \\\n",
    "\t.setContact(1) \\\n",
    "\t.setMass(.1)\n",
    "\n",
    "# for convenience, a few definitions:\n",
    "gripper = \"l_gripper\"\n",
    "palm = \"l_palm\"\n",
    "table = \"table\"\n",
    "box = \"box\"\n",
    "\n",
    "C.view()"
   ]
  },
  {
   "cell_type": "code",
   "execution_count": 3,
   "metadata": {},
   "outputs": [],
   "source": [
    "from time import sleep\n",
    "def pick_place(shelf_coor: list[float], vis: bool=False) -> bool:\n",
    "\tbox = \"box\"\n",
    "\tM = manip.ManipulationModelling(C, \"shelf_task\", helpers=[gripper])\n",
    "\tM.setup_pick_and_place_waypoints(gripper, box, homing_scale=1e-1)\n",
    "\tM.grasp_box(1., gripper, box, \"l_palm\", \"x\")\n",
    "\tM.komo.addObjective([2.], ry.FS.insideBox, [box, f\"small_box_inside_{shelf_coor[0]}_{shelf_coor[1]}\"], ry.OT.ineq, [1e1])\n",
    "\t\n",
    "\tkeypoints = M.solve()\n",
    "\tif not M.feasible:\n",
    "\t\tM.komo.report(plotOverTime=True)\n",
    "\t\tC.view(True, f\"{M.feasible}\")\n",
    "\t\treturn False, []\n",
    "\t\n",
    "\tfor i, k in enumerate(keypoints):\n",
    "\t\tC.setJointState(k)\n",
    "\t\tif i%2:\n",
    "\t\t\tC.attach(table, box)\n",
    "\t\telse:\n",
    "\t\t\tC.attach(gripper, box)\n",
    "\t\tC.view(False, f'step {i}')\n",
    "\t\tsleep(1.)\n",
    "\n",
    "\treturn True, keypoints\n",
    "\n",
    "\tM1 = M.sub_motion(0)\n",
    "\tM1.keep_distance([.3,.7], \"l_palm\", obj, margin=.05)\n",
    "\tM1.retract([.0, .2], gripper)\n",
    "\tM1.approach([.8, 1.], gripper)\n",
    "\tpath1 = M1.solve()\n",
    "\tif not M1.feasible:\n",
    "\t\treturn False, []\n",
    "\n",
    "\tM2 = M.sub_motion(1)\n",
    "\tM2.keep_distance([], table, \"panda_collCameraWrist\")\n",
    "\tM2.keep_distance([.2, .8], table, obj, .04)\n",
    "\tM2.keep_distance([], \"l_palm\", obj)\n",
    "\tpath2 = M2.solve()\n",
    "\tif not M2.feasible:\n",
    "\t\treturn False, []\n",
    "\n",
    "\tif vis:\n",
    "\t\tM1.play(C, 1.)\n",
    "\t\tC.attach(gripper, obj)\n",
    "\t\tM2.play(C, 1.)\n",
    "\t\tC.attach(table, obj)\n",
    "\n",
    "\tpath = np.append(path1, path2, 0)\n",
    "\treturn True, path"
   ]
  },
  {
   "cell_type": "code",
   "execution_count": null,
   "metadata": {},
   "outputs": [],
   "source": [
    "shelf_coor = [2, 2]\n",
    "success, _ = pick_place(shelf_coor, vis=True)"
   ]
  },
  {
   "cell_type": "code",
   "execution_count": null,
   "metadata": {},
   "outputs": [],
   "source": []
  }
 ],
 "metadata": {
  "kernelspec": {
   "display_name": "Python 3",
   "language": "python",
   "name": "python3"
  },
  "language_info": {
   "codemirror_mode": {
    "name": "ipython",
    "version": 3
   },
   "file_extension": ".py",
   "mimetype": "text/x-python",
   "name": "python",
   "nbconvert_exporter": "python",
   "pygments_lexer": "ipython3",
   "version": "3.10.12"
  }
 },
 "nbformat": 4,
 "nbformat_minor": 2
}
