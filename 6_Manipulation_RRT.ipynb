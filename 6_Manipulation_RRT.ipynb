{
 "cells": [
  {
   "cell_type": "markdown",
   "metadata": {},
   "source": [
    "# Manipulation.py: RRT"
   ]
  },
  {
   "cell_type": "code",
   "execution_count": 1,
   "metadata": {},
   "outputs": [],
   "source": [
    "import robotic as ry\n",
    "import manipulation as manip\n",
    "from maze_utils import generate_maze\n",
    "from shelf import generate_target_box"
   ]
  },
  {
   "cell_type": "code",
   "execution_count": null,
   "metadata": {},
   "outputs": [],
   "source": [
    "ry.params_add({\"rrt/stepsize\":.05})"
   ]
  },
  {
   "cell_type": "markdown",
   "metadata": {},
   "source": [
    "First we need to find a path through the maze. To do this we create an empty config and add an XYPhi joint to which we will attach a block representing the box and robot gripper.\n",
    "\n",
    "Once this in done we can define an end joint state at the end of the maze. Finally we just call the RRT solver and get the path we need to follow in order to solve the puzzle."
   ]
  },
  {
   "cell_type": "code",
   "execution_count": 15,
   "metadata": {},
   "outputs": [],
   "source": [
    "C = ry.Config()\n",
    "maze_pos = [.0, .3, .69]\n",
    "start_pos, goal_pos = generate_maze(C, maze_pos)\n",
    "\n",
    "C.addFrame(\"base\").setPosition([0, 0, start_pos[2]])\n",
    "C.addFrame(\"ego\", \"base\") \\\n",
    "\t.setJoint(ry.JT.transXYPhi, [-1., 1., -1., 1., -3., 3.]) \\\n",
    "\t.setShape(ry.ST.ssBox, size=[.1, .15, .1, .002]) \\\n",
    "\t.setColor([0, 1., 1.]) \\\n",
    "\t.setContact(1)\n",
    "\n",
    "q0 = [*start_pos[:2], 0]\n",
    "qT = [*goal_pos[:2], 0]\n",
    "\n",
    "M = manip.ManipulationModelling(C)\n",
    "M.setup_point_to_point_rrt(q0, qT)\n",
    "rrt_path = M.solve()\n",
    "\n",
    "if M.feasible:\n",
    "\tM.play(C, 2)\n",
    "else:\n",
    "    print(\"The RRT solver was unable to find a feasible path.\")"
   ]
  },
  {
   "cell_type": "markdown",
   "metadata": {},
   "source": [
    "Now that we have a path for the robot to follow we can use komo to move the robot arm through the maze."
   ]
  },
  {
   "cell_type": "code",
   "execution_count": 16,
   "metadata": {},
   "outputs": [
    {
     "data": {
      "text/plain": [
       "0"
      ]
     },
     "execution_count": 16,
     "metadata": {},
     "output_type": "execute_result"
    }
   ],
   "source": [
    "# Define the new config\n",
    "del C\n",
    "C = ry.Config()\n",
    "C.addFile(ry.raiPath(\"scenarios/pandaSingle.g\"))\n",
    "\n",
    "start_pos, goal_pos = generate_maze(C, maze_pos)\n",
    "\n",
    "C.addFrame(\"box\") \\\n",
    "    .setPosition(start_pos) \\\n",
    "    .setShape(ry.ST.ssBox, size=[.03, .03, .03, .001]) \\\n",
    "    .setColor([0., 0., 1.]) \\\n",
    "    .setContact(1) \\\n",
    "    .setMass(1.)\n",
    "\n",
    "C.delFrame(\"panda_collCameraWrist\")\n",
    "\n",
    "C.view()"
   ]
  },
  {
   "cell_type": "code",
   "execution_count": 17,
   "metadata": {},
   "outputs": [
    {
     "name": "stdout",
     "output_type": "stream",
     "text": [
      "  -- feasible:\n",
      "     { time: 0.001884, evals: 15, done: 1, feasible: 1, sos: 0.0195965, f: 0, ineq: 0.2, eq: 1.78092e-07 }\n",
      "  -- feasible:\n",
      "     { time: 0.132527, evals: 73, done: 1, feasible: 1, sos: 0.00998399, f: 0, ineq: 0, eq: 1.28593e-05 }\n"
     ]
    },
    {
     "data": {
      "text/plain": [
       "13"
      ]
     },
     "execution_count": 17,
     "metadata": {},
     "output_type": "execute_result"
    }
   ],
   "source": [
    "# Grab the box and follow the RRT path\n",
    "M = manip.ManipulationModelling(C)\n",
    "M.setup_inverse_kinematics()\n",
    "M.grasp_box(1., \"l_gripper\", \"box\", \"l_palm\", \"y\")\n",
    "pose = M.solve()\n",
    "if M.feasible:\n",
    "\tM.play(C)\n",
    "\n",
    "\tC.attach(\"l_gripper\", \"box\")\n",
    "\tpath_len = len(rrt_path)\n",
    "\tM = manip.ManipulationModelling(C)\n",
    "\tM.setup_multi_phase_komo(path_len-1, accumulated_collisions=False)\n",
    "\tM.follow_path_on_plane_xy(rrt_path, \"box\")\n",
    "\tpath = M.solve()\n",
    "\n",
    "\tif M.feasible:\n",
    "\t\tM.play(C, 2)\n",
    "\telse:\n",
    "\t\tM.komo.report(plotOverTime=True)\n",
    "\t\tprint(\"Path is not feasible!\")\n",
    "\t\tC.view(True)\n",
    "\n",
    "C.view(True)"
   ]
  },
  {
   "cell_type": "code",
   "execution_count": 18,
   "metadata": {},
   "outputs": [],
   "source": [
    "del C"
   ]
  },
  {
   "cell_type": "markdown",
   "metadata": {},
   "source": [
    "### RRT Sub-motion"
   ]
  },
  {
   "cell_type": "code",
   "execution_count": 2,
   "metadata": {},
   "outputs": [
    {
     "data": {
      "text/plain": [
       "0"
      ]
     },
     "execution_count": 2,
     "metadata": {},
     "output_type": "execute_result"
    }
   ],
   "source": [
    "# Define the new config\n",
    "C = ry.Config()\n",
    "C.addFile(ry.raiPath(\"scenarios/pandaSingle.g\"))\n",
    "\n",
    "generate_target_box(C, [-.3, .3, 1.])\n",
    "\n",
    "C.addFrame(\"box\") \\\n",
    "    .setPosition([.3, .3, .8]) \\\n",
    "    .setShape(ry.ST.ssBox, size=[.05, .05, .12, .001]) \\\n",
    "    .setColor([0., 0., 1.]) \\\n",
    "    .setContact(1) \\\n",
    "    .setMass(1.)\n",
    "\n",
    "C.addFrame(\"wall\") \\\n",
    "    .setPosition([.0, .3, .95]) \\\n",
    "    .setShape(ry.ST.ssBox, size=[.03, .4, .45, .001]) \\\n",
    "    .setColor([0., 0., 0.]) \\\n",
    "    .setContact(1)\n",
    "\n",
    "# For convenience, a few definitions:\n",
    "gripper = \"l_gripper\"\n",
    "box = \"box\"\n",
    "table = \"table\"\n",
    "\n",
    "C.view()"
   ]
  },
  {
   "cell_type": "code",
   "execution_count": 3,
   "metadata": {},
   "outputs": [
    {
     "name": "stdout",
     "output_type": "stream",
     "text": [
      "  -- feasible:\n",
      "     { time: 0.009493, evals: 18, done: 1, feasible: 1, sos: 0.0560179, f: 0, ineq: 1.02799e-07, eq: 3.3371e-06 }\n"
     ]
    }
   ],
   "source": [
    "M = manip.ManipulationModelling(C)\n",
    "M.setup_pick_and_place_waypoints(gripper, box, homing_scale=1e-1)\n",
    "M.grasp_box(1., gripper, box, \"l_palm\", \"y\")\n",
    "M.place_box(2., box, \"target_box_inside\", \"l_palm\", \"z\")\n",
    "M.target_relative_xy_position(2., \"box\", \"target_box_inside\", [0, 0])\n",
    "M.solve()\n",
    "\n",
    "if not M.feasible:\n",
    "\tprint(\"Pick place waypoints infeasible\")\n",
    "else:\n",
    "\tM1 = M.sub_rrt(0)\n",
    "\tM1.solve()\n",
    "\tM2 = M.sub_rrt(1)\n",
    "\tM2.solve()\n",
    "\n",
    "\tif M1.feasible and M2.feasible:\n",
    "\t\tM1.play(C, 2)\n",
    "\t\tC.attach(\"l_gripper\", \"box\")\n",
    "\t\tM2.play(C, 2)\n",
    "\t\tC.attach(\"table\", \"box\")\n",
    "\n",
    "\telse:\n",
    "\t\tprint(\"No solution found for RRT sub-motion\")\n",
    "\t"
   ]
  }
 ],
 "metadata": {
  "kernelspec": {
   "display_name": "Python 3",
   "language": "python",
   "name": "python3"
  },
  "language_info": {
   "codemirror_mode": {
    "name": "ipython",
    "version": 3
   },
   "file_extension": ".py",
   "mimetype": "text/x-python",
   "name": "python",
   "nbconvert_exporter": "python",
   "pygments_lexer": "ipython3",
   "version": "3.10.12"
  }
 },
 "nbformat": 4,
 "nbformat_minor": 2
}
