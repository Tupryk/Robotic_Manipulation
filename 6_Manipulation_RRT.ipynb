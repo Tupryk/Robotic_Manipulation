{
 "cells": [
  {
   "cell_type": "markdown",
   "metadata": {},
   "source": [
    "# Manipulation.py: RRT"
   ]
  },
  {
   "cell_type": "code",
   "execution_count": 1,
   "metadata": {},
   "outputs": [],
   "source": [
    "import robotic as ry\n",
    "import manipulation as manip\n",
    "import robot_execution as robex\n",
    "from maze_utils import generate_maze, solve_maze_rrt"
   ]
  },
  {
   "cell_type": "markdown",
   "metadata": {},
   "source": [
    "First we need to find a path through the maze. To do this we create an empty config and add an XYPhi joint to which we will attach a block representing the box and robot gripper.\n",
    "\n",
    "Once this in done we can define an end joint state at the end of the maze. Finally we just call the RRT solver and get the path we need to follow in order to solve the puzzle."
   ]
  },
  {
   "cell_type": "code",
   "execution_count": 2,
   "metadata": {},
   "outputs": [],
   "source": [
    "ry.params_add({\"rrt/stepsize\":.05})\n",
    "\n",
    "C = ry.Config()\n",
    "generate_maze(C, [.0, .3, .69])\n",
    "ret = solve_maze_rrt(C, True)\n",
    "\n",
    "if not ret.feasible:\n",
    "    print(\"The RRT solver was unable to find a feasible path.\")\n",
    "    exit()"
   ]
  },
  {
   "cell_type": "markdown",
   "metadata": {},
   "source": [
    "Now that we have a path for the robot to follow we can use komo to move the robot arm through the maze."
   ]
  },
  {
   "cell_type": "code",
   "execution_count": 3,
   "metadata": {},
   "outputs": [
    {
     "data": {
      "text/plain": [
       "0"
      ]
     },
     "execution_count": 3,
     "metadata": {},
     "output_type": "execute_result"
    }
   ],
   "source": [
    "# Define the new config\n",
    "C = ry.Config()\n",
    "C.addFile(ry.raiPath(\"scenarios/pandaSingle.g\"))\n",
    "\n",
    "generate_maze(C, [.0, .3, .69])\n",
    "\n",
    "bpos = C.getFrame(\"start\").getPosition()\n",
    "C.addFrame(\"box\") \\\n",
    "    .setPosition(bpos) \\\n",
    "    .setShape(ry.ST.ssBox, size=[.03, .03, .03, .001]) \\\n",
    "    .setColor([0., 0., 1.]) \\\n",
    "    .setContact(1) \\\n",
    "    .setMass(1.)\n",
    "\n",
    "C.view()"
   ]
  },
  {
   "cell_type": "code",
   "execution_count": 4,
   "metadata": {},
   "outputs": [
    {
     "name": "stdout",
     "output_type": "stream",
     "text": [
      "  -- feasible:\n",
      "     { time: 0.002347, evals: 15, done: 1, feasible: 1, sos: 0.0195872, f: 0, ineq: 0.2, eq: 0.0120614 }\n",
      "-- kin_physx.cpp:addJoint:298(0) ADDING JOINT l_panda_joint7-box of type rigid with rel [0, 0, 0]\n",
      "  -- infeasible:\n",
      "     { time: 0.019579, evals: 6, done: 1, feasible: 0, sos: 2.27622e-08, f: 0, ineq: 0, eq: 18.7427 }\n",
      "Path is not feasible!\n"
     ]
    },
    {
     "data": {
      "text/plain": [
       "13"
      ]
     },
     "execution_count": 4,
     "metadata": {},
     "output_type": "execute_result"
    }
   ],
   "source": [
    "# Grab the box and follow the RRT path\n",
    "M = manip.ManipulationModelling(C)\n",
    "M.setup_inverse_kinematics()\n",
    "M.grasp_box(1., \"l_gripper\", \"box\", \"l_palm\", \"y\")\n",
    "pose = M.solve()\n",
    "\n",
    "if M.feasible:\n",
    "    robot = robex.Robot(C)\n",
    "    robot.execute_path_blocking(C, pose)\n",
    "    robot.grasp(C)\n",
    "\n",
    "    M = manip.ManipulationModelling(C)\n",
    "    M.setup_multi_phase_komo(len(ret.x), accumulated_collisions=False)\n",
    "    M.follow_path_on_plane(ret.x, \"box\")\n",
    "    path = M.solve()\n",
    "    \n",
    "    if M.feasible:\n",
    "        robot.execute_path_blocking(C, path)\n",
    "    else:\n",
    "        print(\"Path is not feasible!\")\n",
    "\n",
    "C.view(True)"
   ]
  },
  {
   "cell_type": "code",
   "execution_count": null,
   "metadata": {},
   "outputs": [],
   "source": []
  }
 ],
 "metadata": {
  "kernelspec": {
   "display_name": "Python 3",
   "language": "python",
   "name": "python3"
  },
  "language_info": {
   "codemirror_mode": {
    "name": "ipython",
    "version": 3
   },
   "file_extension": ".py",
   "mimetype": "text/x-python",
   "name": "python",
   "nbconvert_exporter": "python",
   "pygments_lexer": "ipython3",
   "version": "3.10.12"
  }
 },
 "nbformat": 4,
 "nbformat_minor": 2
}
