{
 "cells": [
  {
   "cell_type": "markdown",
   "id": "b15547c7-afd5-4b83-8bbb-4352f9cad0b4",
   "metadata": {},
   "source": [
    "# Manipulation.py: Pulling example\n",
    "\n",
    "\n",
    "This tutorial provides an example of realizing a \"pull\" motion of a robot arm on a box using of \"manipulation.py\" and \"robot_execution.py\". \n",
    "In the context of pulling a box with a robot arm, \"pulling\" refers to the action of applying force to move the box towards or away from a specific direction or location using the robot arm. This typically involves gripping the box securely with the robot's end-effector and then exerting force to shift the box along a desired path or trajectory. "
   ]
  },
  {
   "cell_type": "markdown",
   "id": "a893d10f-c2c8-4a25-add3-960f484c5cba",
   "metadata": {},
   "source": [
    "As always we start with the necessary imports"
   ]
  },
  {
   "cell_type": "code",
   "execution_count": 1,
   "id": "3d966884-f1e9-4a92-9994-aa7eee3b6010",
   "metadata": {},
   "outputs": [
    {
     "name": "stdout",
     "output_type": "stream",
     "text": [
      "Jupyter environment detected. Enabling Open3D WebVisualizer.\n",
      "[Open3D INFO] WebRTC GUI backend enabled.\n",
      "[Open3D INFO] WebRTCWindowSystem: HTTP handshake server disabled.\n"
     ]
    }
   ],
   "source": [
    "import robotic as ry\n",
    "import manipulation as manip\n",
    "import numpy as np\n",
    "import robot_execution as robex"
   ]
  },
  {
   "cell_type": "markdown",
   "id": "2a545d03-be77-4193-a346-a1568efb7daf",
   "metadata": {},
   "source": [
    "Now onto a basic configuration with a single blue box"
   ]
  },
  {
   "cell_type": "code",
   "execution_count": 2,
   "id": "57ac3d04-26a0-40b3-ba67-cf85560d1bde",
   "metadata": {},
   "outputs": [
    {
     "data": {
      "text/plain": [
       "0"
      ]
     },
     "execution_count": 2,
     "metadata": {},
     "output_type": "execute_result"
    }
   ],
   "source": [
    "C = ry.Config()\n",
    "C.addFile(ry.raiPath('../rai-robotModels/scenarios/pandaSingle.g'))\n",
    "\n",
    "midpoint = np.array([-0.105, 0.4, 0.705-.025])\n",
    "C.addFrame(\"box\") \\\n",
    "    .setPosition(midpoint) \\\n",
    "    .setShape(ry.ST.ssBox, size=[0.04, 0.12, 0.04, 0.001]) \\\n",
    "    .setColor([0, 0, 1]) \\\n",
    "    .setContact(1) \\\n",
    "    .setMass(.1)\n",
    "\n",
    "# for convenience, a few definitions:\n",
    "gripper = \"l_gripper\"\n",
    "box = \"box\"\n",
    "table = \"table\"\n",
    "\n",
    "C.view()"
   ]
  },
  {
   "cell_type": "markdown",
   "id": "a8a63972-f72c-4d2c-b98e-bf2ff0bda842",
   "metadata": {},
   "source": [
    "Now follows the implementation of the pull() function.  The function orchestrates a sequence of actions using a ManipulationModelling instance M to simulate a pulling operation on an object. Two sub-motions, M1 and M2, are derived from M to handle the pulling and approach phases, respectively. "
   ]
  },
  {
   "cell_type": "code",
   "execution_count": 6,
   "id": "c6457551-93c9-4707-b5a0-c13dd1307d8e",
   "metadata": {},
   "outputs": [],
   "source": [
    "def pull(object_, info) -> bool:\n",
    "    M = manip.ManipulationModelling(C, info, ['l_gripper'])\n",
    "    M.setup_pick_and_place_waypoints(gripper, object_, 1e-1)  # init 2 phase \"pick-and-place\" problem (in our case applying force and pull)\n",
    "    M.pull([1.,2.], object_, gripper, table)  # add pull constraint\n",
    "    placePosition = midpoint + np.random.uniform(-.1, .1, size=3)\n",
    "    M.komo.addObjective([2.], ry.FS.position, [object_], ry.OT.eq, 1e1*np.array([[1,0,0],[0,1,0]]), placePosition)\n",
    "    M.solve()\n",
    "\n",
    "    M1 = M.sub_motion(0, accumulated_collisions=False)\n",
    "    M1.retractPush([.0, .15], gripper, .03)\n",
    "    M1.approachPush([.85, 1.], gripper, .03)\n",
    "    path1 = M1.solve()\n",
    "\n",
    "    M2 = M.sub_motion(1, accumulated_collisions=False)\n",
    "    path2 = M2.solve()\n",
    "    if not M.feasible or not M1.feasible or not M2.feasible:\n",
    "         return False\n",
    "\n",
    "    M1.play(C, 1.)\n",
    "    C.attach(gripper, object_)\n",
    "    M2.play(C, 1.)\n",
    "    C.attach(table, object_)\n",
    "\n",
    "\n",
    "    return Truhandlehandlee"
   ]
  },
  {
   "cell_type": "markdown",
   "id": "b198c0ae-ee11-4cc2-828f-46e2cadd901d",
   "metadata": {},
   "source": [
    "In the case of using a real robot, you can extend this function by incorporating the following commented code segment, which utilizes botop to execute the motion paths generated. It's important to note that the pulling action may not function correctly in simulation due to the challenges associated with accurately simulating physics for this type of movement."
   ]
  },
  {
   "cell_type": "code",
   "execution_count": 14,
   "id": "6ebc6ba4-c7c8-4da7-91c6-d28ef850691b",
   "metadata": {},
   "outputs": [],
   "source": [
    "# robot = robex.Robot(C, on_real=True)\n",
    "# robot.execute_path_blocking(C, path1)\n",
    "# C.attach(gripper, box)\n",
    "# robot.execute_path_blocking(C, path2)\n",
    "# C.attach(table, box)"
   ]
  },
  {
   "cell_type": "markdown",
   "id": "c2ead9a9-4cef-4bf1-98c6-438df16fe708",
   "metadata": {},
   "source": [
    "Now we try a random \"pull\" motion attempt_count number of times. Try to play around with the placePosition variable or different objects if you like"
   ]
  },
  {
   "cell_type": "code",
   "execution_count": 4,
   "id": "7fd30ead-fca0-4992-88d7-d7cfc5e0de62",
   "metadata": {},
   "outputs": [
    {
     "name": "stdout",
     "output_type": "stream",
     "text": [
      "  -- feasible:\n",
      "     { time: 0.091205, evals: 200, done: 1, feasible: 1, sos: 0.0479341, f: 0, ineq: 0, eq: 0.046638 }\n",
      "  -- feasible:sub_motion_0--\n",
      "     { time: 0.012817, evals: 17, done: 1, feasible: 1, sos: 0.5069, f: 0, ineq: 8.11309e-08, eq: 0.000170252 }\n",
      "  -- feasible:sub_motion_1--\n",
      "     { time: 0.006128, evals: 7, done: 1, feasible: 1, sos: 0.0213975, f: 0, ineq: 0, eq: 9.59405e-06 }\n",
      "  -- feasible:\n",
      "     { time: 0.031937, evals: 83, done: 1, feasible: 1, sos: 0.0336773, f: 0, ineq: 0, eq: 0.0466416 }\n",
      "  -- feasible:sub_motion_0--\n",
      "     { time: 0.024041, evals: 37, done: 1, feasible: 1, sos: 0.270484, f: 0, ineq: 1.56589e-07, eq: 3.35213e-05 }\n",
      "  -- feasible:sub_motion_1--\n",
      "     { time: 0.003547, evals: 8, done: 1, feasible: 1, sos: 0.0335151, f: 0, ineq: 0, eq: 2.83931e-05 }\n",
      "  -- feasible:\n",
      "     { time: 0.016038, evals: 25, done: 1, feasible: 1, sos: 0.0329451, f: 0, ineq: 0, eq: 0.0466644 }\n",
      "  -- feasible:sub_motion_0--\n",
      "     { time: 0.026009, evals: 42, done: 1, feasible: 1, sos: 0.227982, f: 0, ineq: 1.09208e-06, eq: 3.5487e-05 }\n",
      "  -- feasible:sub_motion_1--\n",
      "     { time: 0.003201, evals: 7, done: 1, feasible: 1, sos: 0.00696326, f: 0, ineq: 0, eq: 3.21791e-06 }\n",
      "  -- feasible:\n",
      "     { time: 0.011548, evals: 29, done: 1, feasible: 1, sos: 0.0328845, f: 0, ineq: 0, eq: 0.0466432 }\n",
      "  -- feasible:sub_motion_0--\n",
      "     { time: 0.026268, evals: 41, done: 1, feasible: 1, sos: 0.221994, f: 0, ineq: 1.06218e-06, eq: 3.52741e-05 }\n",
      "  -- feasible:sub_motion_1--\n",
      "     { time: 0.003012, evals: 6, done: 1, feasible: 1, sos: 0.00544807, f: 0, ineq: 0, eq: 0.00042364 }\n",
      "  -- feasible:\n",
      "     { time: 0.011385, evals: 15, done: 1, feasible: 1, sos: 0.0374815, f: 0, ineq: 0, eq: 0.0468043 }\n",
      "  -- feasible:sub_motion_0--\n",
      "     { time: 0.026339, evals: 41, done: 1, feasible: 1, sos: 0.224775, f: 0, ineq: 9.78848e-07, eq: 3.50441e-05 }\n",
      "  -- feasible:sub_motion_1--\n",
      "     { time: 0.003462, evals: 7, done: 1, feasible: 1, sos: 0.0230384, f: 0, ineq: 0, eq: 1.15705e-05 }\n",
      "  -- feasible:\n",
      "     { time: 0.012248, evals: 20, done: 1, feasible: 1, sos: 0.0370142, f: 0, ineq: 0, eq: 0.0468044 }\n",
      "  -- feasible:sub_motion_0--\n",
      "     { time: 0.015422, evals: 22, done: 1, feasible: 1, sos: 0.222304, f: 0, ineq: 2.34164e-06, eq: 4.02169e-05 }\n",
      "  -- feasible:sub_motion_1--\n",
      "     { time: 0.004321, evals: 8, done: 1, feasible: 1, sos: 0.025376, f: 0, ineq: 0, eq: 2.02168e-05 }\n",
      "  -- feasible:\n",
      "     { time: 0.009348, evals: 12, done: 1, feasible: 1, sos: 0.0326459, f: 0, ineq: 0, eq: 0.0467762 }\n",
      "  -- feasible:sub_motion_0--\n",
      "     { time: 0.028545, evals: 41, done: 1, feasible: 1, sos: 0.2422, f: 0, ineq: 9.30135e-07, eq: 3.5247e-05 }\n",
      "  -- feasible:sub_motion_1--\n",
      "     { time: 0.004074, evals: 8, done: 1, feasible: 1, sos: 0.027848, f: 0, ineq: 0, eq: 2.54232e-05 }\n",
      "  -- feasible:\n",
      "     { time: 0.014311, evals: 23, done: 1, feasible: 1, sos: 0.0369075, f: 0, ineq: 0, eq: 0.0467615 }\n",
      "  -- feasible:sub_motion_0--\n",
      "     { time: 0.02339, evals: 37, done: 1, feasible: 1, sos: 0.291564, f: 0, ineq: 1.17007e-07, eq: 3.44157e-05 }\n",
      "  -- feasible:sub_motion_1--\n",
      "     { time: 0.003932, evals: 8, done: 1, feasible: 1, sos: 0.0564655, f: 0, ineq: 0, eq: 3.34233e-05 }\n",
      "  -- feasible:\n",
      "     { time: 0.010431, evals: 17, done: 1, feasible: 1, sos: 0.0338387, f: 0, ineq: 0, eq: 0.0467588 }\n",
      "  -- feasible:sub_motion_0--\n",
      "     { time: 0.025482, evals: 42, done: 1, feasible: 1, sos: 0.223043, f: 0, ineq: 1.50651e-06, eq: 3.71913e-05 }\n",
      "  -- feasible:sub_motion_1--\n",
      "     { time: 0.003318, evals: 7, done: 1, feasible: 1, sos: 0.00982434, f: 0, ineq: 0, eq: 5.37321e-06 }\n",
      "  -- feasible:\n",
      "     { time: 0.008005, evals: 15, done: 1, feasible: 1, sos: 0.0326164, f: 0, ineq: 0, eq: 0.0467471 }\n",
      "  -- feasible:sub_motion_0--\n",
      "     { time: 0.025569, evals: 41, done: 1, feasible: 1, sos: 0.238311, f: 0, ineq: 1.01816e-06, eq: 3.55217e-05 }\n",
      "  -- feasible:sub_motion_1--\n",
      "     { time: 0.003297, evals: 7, done: 1, feasible: 1, sos: 0.0074469, f: 0, ineq: 0, eq: 4.19152e-06 }\n",
      "  -- feasible:\n",
      "     { time: 0.013315, evals: 19, done: 1, feasible: 1, sos: 0.0325225, f: 0, ineq: 0, eq: 0.0467383 }\n",
      "  -- feasible:sub_motion_0--\n",
      "     { time: 0.030573, evals: 41, done: 1, feasible: 1, sos: 0.225218, f: 0, ineq: 1.07455e-06, eq: 3.54786e-05 }\n",
      "  -- feasible:sub_motion_1--\n",
      "     { time: 0.004151, evals: 7, done: 1, feasible: 1, sos: 0.0188203, f: 0, ineq: 0, eq: 1.00932e-05 }\n",
      "  -- feasible:\n",
      "     { time: 0.01251, evals: 17, done: 1, feasible: 1, sos: 0.0320245, f: 0, ineq: 0, eq: 0.0469331 }\n",
      "  -- feasible:sub_motion_0--\n",
      "     { time: 0.022717, evals: 37, done: 1, feasible: 1, sos: 0.266311, f: 0, ineq: 5.04759e-07, eq: 3.42844e-05 }\n",
      "  -- feasible:sub_motion_1--\n",
      "     { time: 0.003292, evals: 7, done: 1, feasible: 1, sos: 0.0165211, f: 0, ineq: 0, eq: 1.00825e-05 }\n",
      "  -- feasible:\n",
      "     { time: 0.011951, evals: 16, done: 1, feasible: 1, sos: 0.0399172, f: 0, ineq: 0, eq: 0.0467751 }\n",
      "  -- feasible:sub_motion_0--\n",
      "     { time: 0.025079, evals: 41, done: 1, feasible: 1, sos: 0.225828, f: 0, ineq: 7.93832e-07, eq: 3.43453e-05 }\n",
      "  -- feasible:sub_motion_1--\n",
      "     { time: 0.003914, evals: 8, done: 1, feasible: 1, sos: 0.0360355, f: 0, ineq: 0, eq: 2.85255e-05 }\n",
      "  -- feasible:\n",
      "     { time: 0.016425, evals: 27, done: 1, feasible: 1, sos: 0.0415143, f: 0, ineq: 0, eq: 0.04675 }\n",
      "  -- feasible:sub_motion_0--\n",
      "     { time: 0.022415, evals: 35, done: 1, feasible: 1, sos: 0.212826, f: 0, ineq: 2.65193e-06, eq: 4.1024e-05 }\n",
      "  -- feasible:sub_motion_1--\n",
      "     { time: 0.003982, evals: 8, done: 1, feasible: 1, sos: 0.0711777, f: 0, ineq: 0, eq: 4.21678e-05 }\n",
      "  -- feasible:\n",
      "     { time: 0.016224, evals: 26, done: 1, feasible: 1, sos: 0.0298209, f: 0, ineq: 0, eq: 0.0467 }\n",
      "  -- feasible:sub_motion_0--\n",
      "     { time: 0.024923, evals: 34, done: 1, feasible: 1, sos: 0.267734, f: 0, ineq: 4.56307e-07, eq: 3.42107e-05 }\n",
      "  -- feasible:sub_motion_1--\n",
      "     { time: 0.003621, evals: 7, done: 1, feasible: 1, sos: 0.00635376, f: 0, ineq: 0, eq: 2.98323e-06 }\n",
      "  -- feasible:\n",
      "     { time: 0.005474, evals: 16, done: 1, feasible: 1, sos: 0.031634, f: 0, ineq: 0, eq: 0.0467012 }\n",
      "  -- feasible:sub_motion_0--\n",
      "     { time: 0.029936, evals: 37, done: 1, feasible: 1, sos: 0.286629, f: 0, ineq: 2.65168e-07, eq: 3.4334e-05 }\n",
      "  -- feasible:sub_motion_1--\n",
      "     { time: 0.00429, evals: 7, done: 1, feasible: 1, sos: 0.0180146, f: 0, ineq: 0, eq: 1.0514e-05 }\n",
      "  -- feasible:\n",
      "     { time: 0.004812, evals: 11, done: 1, feasible: 1, sos: 0.0322389, f: 0, ineq: 0, eq: 0.0467261 }\n",
      "  -- feasible:sub_motion_0--\n",
      "     { time: 0.020239, evals: 23, done: 1, feasible: 1, sos: 0.234255, f: 0, ineq: 6.74873e-07, eq: 3.40978e-05 }\n",
      "  -- feasible:sub_motion_1--\n",
      "     { time: 0.003851, evals: 7, done: 1, feasible: 1, sos: 0.0078431, f: 0, ineq: 0, eq: 4.43927e-06 }\n",
      "  -- feasible:\n",
      "     { time: 0.004899, evals: 15, done: 1, feasible: 1, sos: 0.0330348, f: 0, ineq: 0, eq: 0.0467201 }\n",
      "  -- feasible:sub_motion_0--\n",
      "     { time: 0.028505, evals: 41, done: 1, feasible: 1, sos: 0.227142, f: 0, ineq: 1.00432e-06, eq: 3.52388e-05 }\n",
      "  -- feasible:sub_motion_1--\n",
      "     { time: 0.004106, evals: 8, done: 1, feasible: 1, sos: 0.026831, f: 0, ineq: 0, eq: 2.49179e-05 }\n",
      "  -- feasible:\n",
      "     { time: 0.007312, evals: 22, done: 1, feasible: 1, sos: 0.0327745, f: 0, ineq: 0, eq: 0.0467049 }\n",
      "  -- feasible:sub_motion_0--\n",
      "     { time: 0.025055, evals: 37, done: 1, feasible: 1, sos: 0.281672, f: 0, ineq: 2.54774e-07, eq: 3.42143e-05 }\n",
      "  -- feasible:sub_motion_1--\n",
      "     { time: 0.004177, evals: 8, done: 1, feasible: 1, sos: 0.0261567, f: 0, ineq: 0, eq: 2.15154e-05 }\n"
     ]
    },
    {
     "ename": "KeyboardInterrupt",
     "evalue": "",
     "output_type": "error",
     "traceback": [
      "\u001b[0;31m---------------------------------------------------------------------------\u001b[0m",
      "\u001b[0;31mKeyboardInterrupt\u001b[0m                         Traceback (most recent call last)",
      "Cell \u001b[0;32mIn[4], line 9\u001b[0m\n\u001b[1;32m      7\u001b[0m     placePosition \u001b[38;5;241m=\u001b[39m [midpoint[\u001b[38;5;241m0\u001b[39m] \u001b[38;5;241m+\u001b[39m np\u001b[38;5;241m.\u001b[39mrandom\u001b[38;5;241m.\u001b[39mrandom()\u001b[38;5;241m*\u001b[39m\u001b[38;5;241m.4\u001b[39m \u001b[38;5;241m-\u001b[39m\u001b[38;5;241m.2\u001b[39m, midpoint[\u001b[38;5;241m1\u001b[39m] \u001b[38;5;241m+\u001b[39m np\u001b[38;5;241m.\u001b[39mrandom\u001b[38;5;241m.\u001b[39mrandom()\u001b[38;5;241m*\u001b[39m\u001b[38;5;241m.4\u001b[39m \u001b[38;5;241m-\u001b[39m\u001b[38;5;241m.2\u001b[39m]\n\u001b[1;32m      8\u001b[0m     object_ \u001b[38;5;241m=\u001b[39m np\u001b[38;5;241m.\u001b[39mrandom\u001b[38;5;241m.\u001b[39mchoice([box])\n\u001b[0;32m----> 9\u001b[0m     success \u001b[38;5;241m=\u001b[39m \u001b[43mpull\u001b[49m\u001b[43m(\u001b[49m\u001b[43mobject_\u001b[49m\u001b[43m,\u001b[49m\u001b[43m \u001b[49m\u001b[38;5;124;43m\"\u001b[39;49m\u001b[38;5;124;43m\"\u001b[39;49m\u001b[43m)\u001b[49m\n\u001b[1;32m     11\u001b[0m \u001b[38;5;28;01melse\u001b[39;00m:\n\u001b[1;32m     12\u001b[0m     \u001b[38;5;28;01mraise\u001b[39;00m \u001b[38;5;167;01mException\u001b[39;00m(\u001b[38;5;124mf\u001b[39m\u001b[38;5;124m'\u001b[39m\u001b[38;5;124mAction \u001b[39m\u001b[38;5;124m\"\u001b[39m\u001b[38;5;132;01m{\u001b[39;00maction\u001b[38;5;132;01m}\u001b[39;00m\u001b[38;5;124m\"\u001b[39m\u001b[38;5;124m is not defined!\u001b[39m\u001b[38;5;124m'\u001b[39m)\n",
      "Cell \u001b[0;32mIn[3], line 19\u001b[0m, in \u001b[0;36mpull\u001b[0;34m(object_, info)\u001b[0m\n\u001b[1;32m     16\u001b[0m \u001b[38;5;28;01mif\u001b[39;00m \u001b[38;5;129;01mnot\u001b[39;00m M\u001b[38;5;241m.\u001b[39mfeasible \u001b[38;5;129;01mor\u001b[39;00m \u001b[38;5;129;01mnot\u001b[39;00m M1\u001b[38;5;241m.\u001b[39mfeasible \u001b[38;5;129;01mor\u001b[39;00m \u001b[38;5;129;01mnot\u001b[39;00m M2\u001b[38;5;241m.\u001b[39mfeasible:\n\u001b[1;32m     17\u001b[0m      \u001b[38;5;28;01mreturn\u001b[39;00m \u001b[38;5;28;01mFalse\u001b[39;00m\n\u001b[0;32m---> 19\u001b[0m \u001b[43mM1\u001b[49m\u001b[38;5;241;43m.\u001b[39;49m\u001b[43mplay\u001b[49m\u001b[43m(\u001b[49m\u001b[43mC\u001b[49m\u001b[43m,\u001b[49m\u001b[43m \u001b[49m\u001b[38;5;241;43m1.\u001b[39;49m\u001b[43m)\u001b[49m\n\u001b[1;32m     20\u001b[0m C\u001b[38;5;241m.\u001b[39mattach(gripper, object_)\n\u001b[1;32m     21\u001b[0m M2\u001b[38;5;241m.\u001b[39mplay(C, \u001b[38;5;241m1.\u001b[39m)\n",
      "File \u001b[0;32m~/Documents/Robotic_Manipulation/examples/manipulation.py:507\u001b[0m, in \u001b[0;36mManipulationModelling.play\u001b[0;34m(self, C, duration)\u001b[0m\n\u001b[1;32m    505\u001b[0m C\u001b[38;5;241m.\u001b[39msetJointState(\u001b[38;5;28mself\u001b[39m\u001b[38;5;241m.\u001b[39mpath[t])\n\u001b[1;32m    506\u001b[0m C\u001b[38;5;241m.\u001b[39mview(\u001b[38;5;28;01mFalse\u001b[39;00m, \u001b[38;5;124mf\u001b[39m\u001b[38;5;124m'\u001b[39m\u001b[38;5;124mstep \u001b[39m\u001b[38;5;132;01m{\u001b[39;00mt\u001b[38;5;132;01m}\u001b[39;00m\u001b[38;5;130;01m\\n\u001b[39;00m\u001b[38;5;132;01m{\u001b[39;00m\u001b[38;5;28mself\u001b[39m\u001b[38;5;241m.\u001b[39minfo\u001b[38;5;132;01m}\u001b[39;00m\u001b[38;5;124m'\u001b[39m)\n\u001b[0;32m--> 507\u001b[0m \u001b[43mtime\u001b[49m\u001b[38;5;241;43m.\u001b[39;49m\u001b[43msleep\u001b[49m\u001b[43m(\u001b[49m\u001b[43mduration\u001b[49m\u001b[38;5;241;43m/\u001b[39;49m\u001b[38;5;28;43mself\u001b[39;49m\u001b[38;5;241;43m.\u001b[39;49m\u001b[43mpath\u001b[49m\u001b[38;5;241;43m.\u001b[39;49m\u001b[43mshape\u001b[49m\u001b[43m[\u001b[49m\u001b[38;5;241;43m0\u001b[39;49m\u001b[43m]\u001b[49m\u001b[43m)\u001b[49m\n",
      "\u001b[0;31mKeyboardInterrupt\u001b[0m: "
     ]
    }
   ],
   "source": [
    "attempt_count = 100\n",
    "data = []\n",
    "for l in range(attempt_count):\n",
    "    \n",
    "    action = \"pull\"\n",
    "    if action == \"pull\":\n",
    "        placePosition = [midpoint[0] + np.random.random()*.4 -.2, midpoint[1] + np.random.random()*.4 -.2]\n",
    "        object_ = np.random.choice([box])\n",
    "        success = pull(object_, \"\")\n",
    "\n",
    "    else:\n",
    "        raise Exception(f'Action \"{action}\" is not defined!')\n",
    "    \n",
    "    data.append({\"action\": action, \"success\": success})\n",
    "print(data)"
   ]
  }
 ],
 "metadata": {
  "kernelspec": {
   "display_name": "Python 3 (ipykernel)",
   "language": "python",
   "name": "python3"
  },
  "language_info": {
   "codemirror_mode": {
    "name": "ipython",
    "version": 3
   },
   "file_extension": ".py",
   "mimetype": "text/x-python",
   "name": "python",
   "nbconvert_exporter": "python",
   "pygments_lexer": "ipython3",
   "version": "3.8.17"
  }
 },
 "nbformat": 4,
 "nbformat_minor": 5
}
